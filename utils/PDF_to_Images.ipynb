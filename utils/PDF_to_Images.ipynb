{
 "cells": [
  {
   "cell_type": "code",
   "execution_count": 2,
   "id": "e5dc41f5-9303-41f7-ab4c-256e484db933",
   "metadata": {
    "tags": []
   },
   "outputs": [],
   "source": [
    "#!pip install fitz"
   ]
  },
  {
   "cell_type": "code",
   "execution_count": 5,
   "id": "1f895d9a-c2f8-471d-b792-6670b55d5d5a",
   "metadata": {
    "tags": []
   },
   "outputs": [
    {
     "ename": "ModuleNotFoundError",
     "evalue": "No module named 'fitz'",
     "output_type": "error",
     "traceback": [
      "\u001b[1;31m---------------------------------------------------------------------------\u001b[0m",
      "\u001b[1;31mModuleNotFoundError\u001b[0m                       Traceback (most recent call last)",
      "Cell \u001b[1;32mIn[5], line 1\u001b[0m\n\u001b[1;32m----> 1\u001b[0m \u001b[38;5;28;01mimport\u001b[39;00m \u001b[38;5;21;01mfitz\u001b[39;00m  \u001b[38;5;66;03m# PyMuPDF\u001b[39;00m\n\u001b[0;32m      2\u001b[0m \u001b[38;5;28;01mimport\u001b[39;00m \u001b[38;5;21;01mos\u001b[39;00m\n\u001b[0;32m      4\u001b[0m \u001b[38;5;28;01mdef\u001b[39;00m \u001b[38;5;21mpdf_to_images\u001b[39m(pdf_path, output_folder):\n\u001b[0;32m      5\u001b[0m     \u001b[38;5;66;03m# Open the PDF file\u001b[39;00m\n",
      "\u001b[1;31mModuleNotFoundError\u001b[0m: No module named 'fitz'"
     ]
    }
   ],
   "source": [
    "import fitz  # PyMuPDF\n",
    "import os\n",
    "\n",
    "def pdf_to_images(pdf_path, output_folder):\n",
    "    # Open the PDF file\n",
    "    pdf = fitz.open(pdf_path)\n",
    "    \n",
    "    # Create the output folder if it doesn't exist\n",
    "    if not os.path.isdir(output_folder):\n",
    "        os.makedirs(output_folder)\n",
    "\n",
    "    # Iterate over each page\n",
    "    for page_number in range(len(pdf)):\n",
    "        # Get the page\n",
    "        page = pdf[page_number]\n",
    "\n",
    "        # Render page to an image (pix)\n",
    "        pix = page.get_pixmap()\n",
    "\n",
    "        # Define the output image path\n",
    "        output_image_path = os.path.join(output_folder, f\"page_{page_number + 1}.png\")\n",
    "\n",
    "        # Save the image\n",
    "        pix.save(output_image_path)\n",
    "    \n",
    "    # Close the PDF after processing\n",
    "    pdf.close()\n",
    "    print(f\"All pages have been saved to '{output_folder}'.\")\n",
    "\n",
    "# Usage\n",
    "pdf_path = r'C:\\Users\\Kushal\\Downloads\\6S191_MIT_DeepLearning_L1.pdf'  # Replace with your PDF file path\n",
    "output_folder = 'MIT_L1'  # Replace with your desired output path\n",
    "pdf_to_images(pdf_path, output_folder)"
   ]
  },
  {
   "cell_type": "code",
   "execution_count": null,
   "id": "28c3e8c7-b5fb-4ec4-9b30-87975779532e",
   "metadata": {},
   "outputs": [],
   "source": []
  }
 ],
 "metadata": {
  "interpreter": {
   "hash": "3de59ade2ee4eabf8d6554090db31bdd94608df00f05391c2d316a7da62ee3f6"
  },
  "kernelspec": {
   "display_name": "Python 3.11.5 64-bit ('base': conda)",
   "name": "python3"
  },
  "language_info": {
   "codemirror_mode": {
    "name": "ipython",
    "version": 3
   },
   "file_extension": ".py",
   "mimetype": "text/x-python",
   "name": "python",
   "nbconvert_exporter": "python",
   "pygments_lexer": "ipython3",
   "version": "3.11.5"
  }
 },
 "nbformat": 4,
 "nbformat_minor": 5
}
