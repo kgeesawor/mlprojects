{
 "cells": [
  {
   "cell_type": "code",
   "execution_count": null,
   "id": "4600cf61-f4fd-4cf6-a800-6a85170dcf79",
   "metadata": {},
   "outputs": [
    {
     "name": "stdout",
     "output_type": "stream",
     "text": [
      "Kept alive.\n"
     ]
    }
   ],
   "source": [
    "import requests\n",
    "import time\n",
    "import random\n",
    "\n",
    "while True:\n",
    "    try:\n",
    "        requests.get('https://www.google.com')\n",
    "        print(\"Kept alive.\")\n",
    "    except:\n",
    "        print(\"Failed to keep alive.\")\n",
    "    time.sleep(random.randint(400,600))"
   ]
  },
  {
   "cell_type": "code",
   "execution_count": null,
   "id": "281082e0-1e87-4d1a-8910-a11207214d3a",
   "metadata": {},
   "outputs": [],
   "source": []
  },
  {
   "cell_type": "code",
   "execution_count": null,
   "id": "1ce3e463-6962-40b9-ad7a-9250dd4f7623",
   "metadata": {},
   "outputs": [],
   "source": []
  }
 ],
 "metadata": {
  "kernelspec": {
   "display_name": "Python 3 (ipykernel)",
   "language": "python",
   "name": "python3"
  },
  "language_info": {
   "codemirror_mode": {
    "name": "ipython",
    "version": 3
   },
   "file_extension": ".py",
   "mimetype": "text/x-python",
   "name": "python",
   "nbconvert_exporter": "python",
   "pygments_lexer": "ipython3",
   "version": "3.9.13"
  }
 },
 "nbformat": 4,
 "nbformat_minor": 5
}
