{
 "cells": [
  {
   "cell_type": "code",
   "execution_count": 1,
   "id": "690e2158-93f5-4db6-b27f-334894a58bae",
   "metadata": {},
   "outputs": [],
   "source": [
    "# Digital Classifier"
   ]
  },
  {
   "cell_type": "code",
   "execution_count": 2,
   "id": "735dc32b-601e-48c6-8a40-9a2812982cc6",
   "metadata": {
    "jupyter": {
     "source_hidden": true
    },
    "tags": []
   },
   "outputs": [],
   "source": [
    "import fastbook\n",
    "fastbook.setup_book()\n",
    "\n",
    "from fastai.vision.all import *\n",
    "from fastbook import *"
   ]
  },
  {
   "cell_type": "code",
   "execution_count": 3,
   "id": "676cdf06-9960-4820-8959-7202a35fa562",
   "metadata": {},
   "outputs": [
    {
     "data": {
      "text/html": [
       "\n",
       "<style>\n",
       "    /* Turns off some styling */\n",
       "    progress {\n",
       "        /* gets rid of default border in Firefox and Opera. */\n",
       "        border: none;\n",
       "        /* Needs to be in here for Safari polyfill so background images work as expected. */\n",
       "        background-size: auto;\n",
       "    }\n",
       "    progress:not([value]), progress:not([value])::-webkit-progress-bar {\n",
       "        background: repeating-linear-gradient(45deg, #7e7e7e, #7e7e7e 10px, #5c5c5c 10px, #5c5c5c 20px);\n",
       "    }\n",
       "    .progress-bar-interrupted, .progress-bar-interrupted::-webkit-progress-bar {\n",
       "        background: #F44336;\n",
       "    }\n",
       "</style>\n"
      ],
      "text/plain": [
       "<IPython.core.display.HTML object>"
      ]
     },
     "metadata": {},
     "output_type": "display_data"
    },
    {
     "data": {
      "text/html": [
       "\n",
       "    <div>\n",
       "      <progress value='3219456' class='' max='3214948' style='width:300px; height:20px; vertical-align: middle;'></progress>\n",
       "      100.14% [3219456/3214948 00:00&lt;00:00]\n",
       "    </div>\n",
       "    "
      ],
      "text/plain": [
       "<IPython.core.display.HTML object>"
      ]
     },
     "metadata": {},
     "output_type": "display_data"
    },
    {
     "data": {
      "text/plain": [
       "Path('/root/.fastai/data/mnist_sample')"
      ]
     },
     "execution_count": 3,
     "metadata": {},
     "output_type": "execute_result"
    }
   ],
   "source": [
    "path = untar_data(URLs.MNIST_SAMPLE)\n",
    "path"
   ]
  },
  {
   "cell_type": "code",
   "execution_count": 4,
   "id": "7db02051-a007-477f-a3ba-1af367d2a1f1",
   "metadata": {},
   "outputs": [],
   "source": [
    "Path.BASE_PATH = path"
   ]
  },
  {
   "cell_type": "code",
   "execution_count": 5,
   "id": "5ca407e9-79c6-4a26-84cf-5a41787c3deb",
   "metadata": {},
   "outputs": [
    {
     "data": {
      "text/plain": [
       "(#3) [Path('valid'),Path('labels.csv'),Path('train')]"
      ]
     },
     "execution_count": 5,
     "metadata": {},
     "output_type": "execute_result"
    }
   ],
   "source": [
    "path.ls()"
   ]
  },
  {
   "cell_type": "code",
   "execution_count": 6,
   "id": "7262764d-0177-41ca-ad28-b82879648bbd",
   "metadata": {},
   "outputs": [
    {
     "data": {
      "text/plain": [
       "(#2) [Path('train/3'),Path('train/7')]"
      ]
     },
     "execution_count": 6,
     "metadata": {},
     "output_type": "execute_result"
    }
   ],
   "source": [
    "(path/'train').ls()"
   ]
  },
  {
   "cell_type": "code",
   "execution_count": 7,
   "id": "f2b6dcf8-30a0-4351-9b01-b44ab445627f",
   "metadata": {},
   "outputs": [
    {
     "data": {
      "text/plain": [
       "(#6131) [Path('train/3/10.png'),Path('train/3/10000.png'),Path('train/3/10011.png'),Path('train/3/10031.png'),Path('train/3/10034.png'),Path('train/3/10042.png'),Path('train/3/10052.png'),Path('train/3/1007.png'),Path('train/3/10074.png'),Path('train/3/10091.png')...]"
      ]
     },
     "execution_count": 7,
     "metadata": {},
     "output_type": "execute_result"
    }
   ],
   "source": [
    "threes = (path/'train'/'3').ls().sorted()\n",
    "sevens = (path/'train'/'7').ls().sorted()\n",
    "threes"
   ]
  },
  {
   "cell_type": "code",
   "execution_count": 8,
   "id": "4aca253e-dbe0-4ffc-bc98-9c8690de9700",
   "metadata": {},
   "outputs": [
    {
     "data": {
      "image/png": "[encoded data removed]",
      "text/plain": [
       "<PIL.PngImagePlugin.PngImageFile image mode=L size=28x28>"
      ]
     },
     "execution_count": 8,
     "metadata": {},
     "output_type": "execute_result"
    }
   ],
   "source": [
    "#Below uses Python Imaging Library (PIL)\n",
    "\n",
    "im3_path = threes[1]\n",
    "im3 = Image.open(im3_path)\n",
    "im3"
   ]
  },
  {
   "cell_type": "code",
   "execution_count": 9,
   "id": "f522e519-b963-4094-bfcc-4123bccd271a",
   "metadata": {},
   "outputs": [
    {
     "data": {
      "text/plain": [
       "array([[  0,   0,   0,   0,   0,   0],\n",
       "       [  0,   0,   0,   0,   0,  29],\n",
       "       [  0,   0,   0,  48, 166, 224],\n",
       "       [  0,  93, 244, 249, 253, 187],\n",
       "       [  0, 107, 253, 253, 230,  48],\n",
       "       [  0,   3,  20,  20,  15,   0]], dtype=uint8)"
      ]
     },
     "execution_count": 9,
     "metadata": {},
     "output_type": "execute_result"
    }
   ],
   "source": [
    "array(im3)[4:10,4:10]"
   ]
  },
  {
   "cell_type": "code",
   "execution_count": 10,
   "id": "141e84df-f24d-46bd-bf1f-b06707937a2b",
   "metadata": {},
   "outputs": [
    {
     "data": {
      "text/plain": [
       "tensor([[  0,   0,   0,   0,   0,   0],\n",
       "        [  0,   0,   0,   0,   0,  29],\n",
       "        [  0,   0,   0,  48, 166, 224],\n",
       "        [  0,  93, 244, 249, 253, 187],\n",
       "        [  0, 107, 253, 253, 230,  48],\n",
       "        [  0,   3,  20,  20,  15,   0]], dtype=torch.uint8)"
      ]
     },
     "execution_count": 10,
     "metadata": {},
     "output_type": "execute_result"
    }
   ],
   "source": [
    "tensor(im3)[4:10,4:10]"
   ]
  },
  {
   "cell_type": "code",
   "execution_count": 11,
   "id": "2a340c30-e3fd-4728-8603-409219025af3",
   "metadata": {},
   "outputs": [
    {
     "data": {
      "text/html": [
       "<style type=\"text/css\">\n",
       "#T_4f4e0_row0_col0, #T_4f4e0_row0_col1, #T_4f4e0_row0_col2, #T_4f4e0_row0_col3, #T_4f4e0_row0_col4, #T_4f4e0_row0_col5, #T_4f4e0_row0_col6, #T_4f4e0_row0_col7, #T_4f4e0_row0_col8, #T_4f4e0_row0_col9, #T_4f4e0_row0_col10, #T_4f4e0_row0_col11, #T_4f4e0_row0_col12, #T_4f4e0_row0_col13, #T_4f4e0_row0_col14, #T_4f4e0_row0_col15, #T_4f4e0_row0_col16, #T_4f4e0_row0_col17, #T_4f4e0_row0_col18, #T_4f4e0_row1_col0, #T_4f4e0_row1_col1, #T_4f4e0_row1_col2, #T_4f4e0_row1_col3, #T_4f4e0_row1_col4, #T_4f4e0_row1_col15, #T_4f4e0_row1_col16, #T_4f4e0_row1_col17, #T_4f4e0_row1_col18, #T_4f4e0_row2_col0, #T_4f4e0_row2_col1, #T_4f4e0_row2_col2, #T_4f4e0_row2_col15, #T_4f4e0_row2_col16, #T_4f4e0_row2_col17, #T_4f4e0_row2_col18, #T_4f4e0_row3_col0, #T_4f4e0_row3_col15, #T_4f4e0_row3_col16, #T_4f4e0_row3_col17, #T_4f4e0_row3_col18, #T_4f4e0_row4_col0, #T_4f4e0_row4_col6, #T_4f4e0_row4_col7, #T_4f4e0_row4_col8, #T_4f4e0_row4_col9, #T_4f4e0_row4_col10, #T_4f4e0_row4_col15, #T_4f4e0_row4_col16, #T_4f4e0_row4_col17, #T_4f4e0_row4_col18, #T_4f4e0_row5_col0, #T_4f4e0_row5_col5, #T_4f4e0_row5_col6, #T_4f4e0_row5_col7, #T_4f4e0_row5_col8, #T_4f4e0_row5_col9, #T_4f4e0_row5_col15, #T_4f4e0_row5_col16, #T_4f4e0_row5_col17, #T_4f4e0_row5_col18, #T_4f4e0_row6_col0, #T_4f4e0_row6_col1, #T_4f4e0_row6_col2, #T_4f4e0_row6_col3, #T_4f4e0_row6_col4, #T_4f4e0_row6_col5, #T_4f4e0_row6_col6, #T_4f4e0_row6_col7, #T_4f4e0_row6_col8, #T_4f4e0_row6_col9, #T_4f4e0_row6_col14, #T_4f4e0_row6_col15, #T_4f4e0_row6_col16, #T_4f4e0_row6_col17, #T_4f4e0_row6_col18, #T_4f4e0_row7_col0, #T_4f4e0_row7_col1, #T_4f4e0_row7_col2, #T_4f4e0_row7_col3, #T_4f4e0_row7_col4, #T_4f4e0_row7_col5, #T_4f4e0_row7_col6, #T_4f4e0_row7_col13, #T_4f4e0_row7_col14, #T_4f4e0_row7_col15, #T_4f4e0_row7_col16, #T_4f4e0_row7_col17, #T_4f4e0_row7_col18, #T_4f4e0_row8_col0, #T_4f4e0_row8_col1, #T_4f4e0_row8_col2, #T_4f4e0_row8_col3, #T_4f4e0_row8_col4, #T_4f4e0_row8_col13, #T_4f4e0_row8_col14, #T_4f4e0_row8_col15, #T_4f4e0_row8_col16, #T_4f4e0_row8_col17, #T_4f4e0_row8_col18, #T_4f4e0_row9_col0, #T_4f4e0_row9_col1, #T_4f4e0_row9_col2, #T_4f4e0_row9_col3, #T_4f4e0_row9_col4, #T_4f4e0_row9_col16, #T_4f4e0_row9_col17, #T_4f4e0_row9_col18, #T_4f4e0_row10_col0, #T_4f4e0_row10_col1, #T_4f4e0_row10_col2, #T_4f4e0_row10_col3, #T_4f4e0_row10_col4, #T_4f4e0_row10_col5, #T_4f4e0_row10_col6, #T_4f4e0_row10_col17, #T_4f4e0_row10_col18, #T_4f4e0_row11_col0, #T_4f4e0_row11_col1, #T_4f4e0_row11_col2, #T_4f4e0_row11_col3, #T_4f4e0_row11_col4, #T_4f4e0_row11_col5, #T_4f4e0_row11_col6, #T_4f4e0_row11_col7, #T_4f4e0_row11_col8, #T_4f4e0_row11_col9, #T_4f4e0_row11_col17, #T_4f4e0_row11_col18, #T_4f4e0_row12_col0, #T_4f4e0_row12_col1, #T_4f4e0_row12_col2, #T_4f4e0_row12_col3, #T_4f4e0_row12_col4, #T_4f4e0_row12_col5, #T_4f4e0_row12_col6, #T_4f4e0_row12_col7, #T_4f4e0_row12_col8, #T_4f4e0_row12_col9, #T_4f4e0_row12_col10, #T_4f4e0_row12_col11, #T_4f4e0_row12_col12, #T_4f4e0_row12_col17, #T_4f4e0_row12_col18, #T_4f4e0_row13_col0, #T_4f4e0_row13_col1, #T_4f4e0_row13_col2, #T_4f4e0_row13_col3, #T_4f4e0_row13_col4, #T_4f4e0_row13_col5, #T_4f4e0_row13_col6, #T_4f4e0_row13_col7, #T_4f4e0_row13_col8, #T_4f4e0_row13_col9, #T_4f4e0_row13_col10, #T_4f4e0_row13_col11, #T_4f4e0_row13_col12, #T_4f4e0_row13_col17, #T_4f4e0_row13_col18, #T_4f4e0_row14_col0, #T_4f4e0_row14_col1, #T_4f4e0_row14_col2, #T_4f4e0_row14_col3, #T_4f4e0_row14_col4, #T_4f4e0_row14_col5, #T_4f4e0_row14_col6, #T_4f4e0_row14_col7, #T_4f4e0_row14_col8, #T_4f4e0_row14_col9, #T_4f4e0_row14_col10, #T_4f4e0_row14_col11, #T_4f4e0_row14_col17, #T_4f4e0_row14_col18, #T_4f4e0_row15_col0, #T_4f4e0_row15_col1, #T_4f4e0_row15_col2, #T_4f4e0_row15_col3, #T_4f4e0_row15_col4, #T_4f4e0_row15_col5, #T_4f4e0_row15_col6, #T_4f4e0_row15_col7, #T_4f4e0_row15_col8, #T_4f4e0_row15_col9, #T_4f4e0_row15_col10, #T_4f4e0_row15_col17, #T_4f4e0_row15_col18, #T_4f4e0_row16_col0, #T_4f4e0_row16_col1, #T_4f4e0_row16_col2, #T_4f4e0_row16_col3, #T_4f4e0_row16_col4, #T_4f4e0_row16_col5, #T_4f4e0_row16_col6, #T_4f4e0_row16_col7, #T_4f4e0_row16_col8, #T_4f4e0_row16_col9, #T_4f4e0_row16_col16, #T_4f4e0_row16_col17, #T_4f4e0_row16_col18, #T_4f4e0_row17_col0, #T_4f4e0_row17_col1, #T_4f4e0_row17_col2, #T_4f4e0_row17_col3, #T_4f4e0_row17_col4, #T_4f4e0_row17_col5, #T_4f4e0_row17_col6, #T_4f4e0_row17_col7, #T_4f4e0_row17_col15, #T_4f4e0_row17_col16, #T_4f4e0_row17_col17, #T_4f4e0_row17_col18, #T_4f4e0_row18_col0, #T_4f4e0_row18_col1, #T_4f4e0_row18_col14, #T_4f4e0_row18_col15, #T_4f4e0_row18_col16, #T_4f4e0_row18_col17, #T_4f4e0_row18_col18, #T_4f4e0_row19_col0, #T_4f4e0_row19_col1, #T_4f4e0_row19_col12, #T_4f4e0_row19_col13, #T_4f4e0_row19_col14, #T_4f4e0_row19_col15, #T_4f4e0_row19_col16, #T_4f4e0_row19_col17, #T_4f4e0_row19_col18, #T_4f4e0_row20_col0, #T_4f4e0_row20_col1, #T_4f4e0_row20_col10, #T_4f4e0_row20_col11, #T_4f4e0_row20_col12, #T_4f4e0_row20_col13, #T_4f4e0_row20_col14, #T_4f4e0_row20_col15, #T_4f4e0_row20_col16, #T_4f4e0_row20_col17, #T_4f4e0_row20_col18, #T_4f4e0_row21_col0, #T_4f4e0_row21_col1, #T_4f4e0_row21_col2, #T_4f4e0_row21_col3, #T_4f4e0_row21_col4, #T_4f4e0_row21_col5, #T_4f4e0_row21_col6, #T_4f4e0_row21_col7, #T_4f4e0_row21_col8, #T_4f4e0_row21_col9, #T_4f4e0_row21_col10, #T_4f4e0_row21_col11, #T_4f4e0_row21_col12, #T_4f4e0_row21_col13, #T_4f4e0_row21_col14, #T_4f4e0_row21_col15, #T_4f4e0_row21_col16, #T_4f4e0_row21_col17, #T_4f4e0_row21_col18 {\n",
       "  font-size: 6pt;\n",
       "  background-color: #ffffff;\n",
       "  color: #000000;\n",
       "}\n",
       "#T_4f4e0_row1_col5, #T_4f4e0_row8_col12 {\n",
       "  font-size: 6pt;\n",
       "  background-color: #f1f1f1;\n",
       "  color: #000000;\n",
       "}\n",
       "#T_4f4e0_row1_col6, #T_4f4e0_row1_col13 {\n",
       "  font-size: 6pt;\n",
       "  background-color: #7c7c7c;\n",
       "  color: #f1f1f1;\n",
       "}\n",
       "#T_4f4e0_row1_col7 {\n",
       "  font-size: 6pt;\n",
       "  background-color: #4a4a4a;\n",
       "  color: #f1f1f1;\n",
       "}\n",
       "#T_4f4e0_row1_col8, #T_4f4e0_row1_col9, #T_4f4e0_row1_col10, #T_4f4e0_row2_col6, #T_4f4e0_row2_col7, #T_4f4e0_row2_col11, #T_4f4e0_row2_col12, #T_4f4e0_row2_col13, #T_4f4e0_row3_col4, #T_4f4e0_row3_col12, #T_4f4e0_row3_col13, #T_4f4e0_row4_col1, #T_4f4e0_row4_col2, #T_4f4e0_row4_col3, #T_4f4e0_row4_col12, #T_4f4e0_row4_col13, #T_4f4e0_row5_col12, #T_4f4e0_row6_col11, #T_4f4e0_row9_col11, #T_4f4e0_row10_col11, #T_4f4e0_row10_col12, #T_4f4e0_row10_col13, #T_4f4e0_row10_col14, #T_4f4e0_row11_col13, #T_4f4e0_row11_col14, #T_4f4e0_row11_col15, #T_4f4e0_row12_col14, #T_4f4e0_row12_col15, #T_4f4e0_row12_col16, #T_4f4e0_row13_col14, #T_4f4e0_row13_col15, #T_4f4e0_row14_col14, #T_4f4e0_row14_col15, #T_4f4e0_row15_col13, #T_4f4e0_row15_col14, #T_4f4e0_row16_col12, #T_4f4e0_row16_col13, #T_4f4e0_row17_col11, #T_4f4e0_row17_col12, #T_4f4e0_row19_col3, #T_4f4e0_row19_col4, #T_4f4e0_row19_col5, #T_4f4e0_row19_col6, #T_4f4e0_row19_col7, #T_4f4e0_row20_col3, #T_4f4e0_row20_col4, #T_4f4e0_row20_col5, #T_4f4e0_row20_col6, #T_4f4e0_row20_col7 {\n",
       "  font-size: 6pt;\n",
       "  background-color: #000000;\n",
       "  color: #f1f1f1;\n",
       "}\n",
       "#T_4f4e0_row1_col11 {\n",
       "  font-size: 6pt;\n",
       "  background-color: #606060;\n",
       "  color: #f1f1f1;\n",
       "}\n",
       "#T_4f4e0_row1_col12 {\n",
       "  font-size: 6pt;\n",
       "  background-color: #4d4d4d;\n",
       "  color: #f1f1f1;\n",
       "}\n",
       "#T_4f4e0_row1_col14 {\n",
       "  font-size: 6pt;\n",
       "  background-color: #bbbbbb;\n",
       "  color: #000000;\n",
       "}\n",
       "#T_4f4e0_row2_col3, #T_4f4e0_row4_col5 {\n",
       "  font-size: 6pt;\n",
       "  background-color: #e4e4e4;\n",
       "  color: #000000;\n",
       "}\n",
       "#T_4f4e0_row2_col4, #T_4f4e0_row8_col6 {\n",
       "  font-size: 6pt;\n",
       "  background-color: #6b6b6b;\n",
       "  color: #f1f1f1;\n",
       "}\n",
       "#T_4f4e0_row2_col5, #T_4f4e0_row5_col11 {\n",
       "  font-size: 6pt;\n",
       "  background-color: #222222;\n",
       "  color: #f1f1f1;\n",
       "}\n",
       "#T_4f4e0_row2_col8, #T_4f4e0_row2_col14, #T_4f4e0_row3_col14, #T_4f4e0_row17_col13 {\n",
       "  font-size: 6pt;\n",
       "  background-color: #171717;\n",
       "  color: #f1f1f1;\n",
       "}\n",
       "#T_4f4e0_row2_col9, #T_4f4e0_row3_col11 {\n",
       "  font-size: 6pt;\n",
       "  background-color: #4b4b4b;\n",
       "  color: #f1f1f1;\n",
       "}\n",
       "#T_4f4e0_row2_col10, #T_4f4e0_row7_col10, #T_4f4e0_row8_col8, #T_4f4e0_row8_col10, #T_4f4e0_row9_col8, #T_4f4e0_row9_col10, #T_4f4e0_row18_col10, #T_4f4e0_row19_col8 {\n",
       "  font-size: 6pt;\n",
       "  background-color: #010101;\n",
       "  color: #f1f1f1;\n",
       "}\n",
       "#T_4f4e0_row3_col1 {\n",
       "  font-size: 6pt;\n",
       "  background-color: #272727;\n",
       "  color: #f1f1f1;\n",
       "}\n",
       "#T_4f4e0_row3_col2 {\n",
       "  font-size: 6pt;\n",
       "  background-color: #0a0a0a;\n",
       "  color: #f1f1f1;\n",
       "}\n",
       "#T_4f4e0_row3_col3, #T_4f4e0_row14_col13 {\n",
       "  font-size: 6pt;\n",
       "  background-color: #050505;\n",
       "  color: #f1f1f1;\n",
       "}\n",
       "#T_4f4e0_row3_col5, #T_4f4e0_row8_col11, #T_4f4e0_row10_col15, #T_4f4e0_row19_col2 {\n",
       "  font-size: 6pt;\n",
       "  background-color: #545454;\n",
       "  color: #f1f1f1;\n",
       "}\n",
       "#T_4f4e0_row3_col6 {\n",
       "  font-size: 6pt;\n",
       "  background-color: #e6e6e6;\n",
       "  color: #000000;\n",
       "}\n",
       "#T_4f4e0_row3_col7, #T_4f4e0_row3_col10, #T_4f4e0_row8_col5 {\n",
       "  font-size: 6pt;\n",
       "  background-color: #fafafa;\n",
       "  color: #000000;\n",
       "}\n",
       "#T_4f4e0_row3_col8, #T_4f4e0_row11_col10, #T_4f4e0_row16_col15 {\n",
       "  font-size: 6pt;\n",
       "  background-color: #fbfbfb;\n",
       "  color: #000000;\n",
       "}\n",
       "#T_4f4e0_row3_col9 {\n",
       "  font-size: 6pt;\n",
       "  background-color: #fdfdfd;\n",
       "  color: #000000;\n",
       "}\n",
       "#T_4f4e0_row4_col4 {\n",
       "  font-size: 6pt;\n",
       "  background-color: #1b1b1b;\n",
       "  color: #f1f1f1;\n",
       "}\n",
       "#T_4f4e0_row4_col11 {\n",
       "  font-size: 6pt;\n",
       "  background-color: #4e4e4e;\n",
       "  color: #f1f1f1;\n",
       "}\n",
       "#T_4f4e0_row4_col14 {\n",
       "  font-size: 6pt;\n",
       "  background-color: #767676;\n",
       "  color: #f1f1f1;\n",
       "}\n",
       "#T_4f4e0_row5_col1 {\n",
       "  font-size: 6pt;\n",
       "  background-color: #fcfcfc;\n",
       "  color: #000000;\n",
       "}\n",
       "#T_4f4e0_row5_col2, #T_4f4e0_row5_col3, #T_4f4e0_row15_col16 {\n",
       "  font-size: 6pt;\n",
       "  background-color: #f6f6f6;\n",
       "  color: #000000;\n",
       "}\n",
       "#T_4f4e0_row5_col4, #T_4f4e0_row7_col7 {\n",
       "  font-size: 6pt;\n",
       "  background-color: #f8f8f8;\n",
       "  color: #000000;\n",
       "}\n",
       "#T_4f4e0_row5_col10, #T_4f4e0_row10_col7 {\n",
       "  font-size: 6pt;\n",
       "  background-color: #e8e8e8;\n",
       "  color: #000000;\n",
       "}\n",
       "#T_4f4e0_row5_col13, #T_4f4e0_row6_col12 {\n",
       "  font-size: 6pt;\n",
       "  background-color: #090909;\n",
       "  color: #f1f1f1;\n",
       "}\n",
       "#T_4f4e0_row5_col14 {\n",
       "  font-size: 6pt;\n",
       "  background-color: #d0d0d0;\n",
       "  color: #000000;\n",
       "}\n",
       "#T_4f4e0_row6_col10, #T_4f4e0_row7_col11, #T_4f4e0_row9_col6 {\n",
       "  font-size: 6pt;\n",
       "  background-color: #060606;\n",
       "  color: #f1f1f1;\n",
       "}\n",
       "#T_4f4e0_row6_col13 {\n",
       "  font-size: 6pt;\n",
       "  background-color: #979797;\n",
       "  color: #f1f1f1;\n",
       "}\n",
       "#T_4f4e0_row7_col8 {\n",
       "  font-size: 6pt;\n",
       "  background-color: #b6b6b6;\n",
       "  color: #000000;\n",
       "}\n",
       "#T_4f4e0_row7_col9 {\n",
       "  font-size: 6pt;\n",
       "  background-color: #252525;\n",
       "  color: #f1f1f1;\n",
       "}\n",
       "#T_4f4e0_row7_col12 {\n",
       "  font-size: 6pt;\n",
       "  background-color: #999999;\n",
       "  color: #f1f1f1;\n",
       "}\n",
       "#T_4f4e0_row8_col7, #T_4f4e0_row18_col8 {\n",
       "  font-size: 6pt;\n",
       "  background-color: #101010;\n",
       "  color: #f1f1f1;\n",
       "}\n",
       "#T_4f4e0_row8_col9, #T_4f4e0_row9_col9, #T_4f4e0_row17_col10, #T_4f4e0_row18_col9, #T_4f4e0_row19_col9 {\n",
       "  font-size: 6pt;\n",
       "  background-color: #020202;\n",
       "  color: #f1f1f1;\n",
       "}\n",
       "#T_4f4e0_row9_col5 {\n",
       "  font-size: 6pt;\n",
       "  background-color: #f7f7f7;\n",
       "  color: #000000;\n",
       "}\n",
       "#T_4f4e0_row9_col7, #T_4f4e0_row18_col11 {\n",
       "  font-size: 6pt;\n",
       "  background-color: #030303;\n",
       "  color: #f1f1f1;\n",
       "}\n",
       "#T_4f4e0_row9_col12 {\n",
       "  font-size: 6pt;\n",
       "  background-color: #181818;\n",
       "  color: #f1f1f1;\n",
       "}\n",
       "#T_4f4e0_row9_col13 {\n",
       "  font-size: 6pt;\n",
       "  background-color: #303030;\n",
       "  color: #f1f1f1;\n",
       "}\n",
       "#T_4f4e0_row9_col14 {\n",
       "  font-size: 6pt;\n",
       "  background-color: #a9a9a9;\n",
       "  color: #f1f1f1;\n",
       "}\n",
       "#T_4f4e0_row9_col15 {\n",
       "  font-size: 6pt;\n",
       "  background-color: #fefefe;\n",
       "  color: #000000;\n",
       "}\n",
       "#T_4f4e0_row10_col8, #T_4f4e0_row10_col9, #T_4f4e0_row16_col10 {\n",
       "  font-size: 6pt;\n",
       "  background-color: #bababa;\n",
       "  color: #000000;\n",
       "}\n",
       "#T_4f4e0_row10_col10 {\n",
       "  font-size: 6pt;\n",
       "  background-color: #393939;\n",
       "  color: #f1f1f1;\n",
       "}\n",
       "#T_4f4e0_row10_col16 {\n",
       "  font-size: 6pt;\n",
       "  background-color: #eaeaea;\n",
       "  color: #000000;\n",
       "}\n",
       "#T_4f4e0_row11_col11 {\n",
       "  font-size: 6pt;\n",
       "  background-color: #e2e2e2;\n",
       "  color: #000000;\n",
       "}\n",
       "#T_4f4e0_row11_col12 {\n",
       "  font-size: 6pt;\n",
       "  background-color: #9f9f9f;\n",
       "  color: #f1f1f1;\n",
       "}\n",
       "#T_4f4e0_row11_col16 {\n",
       "  font-size: 6pt;\n",
       "  background-color: #898989;\n",
       "  color: #f1f1f1;\n",
       "}\n",
       "#T_4f4e0_row12_col13 {\n",
       "  font-size: 6pt;\n",
       "  background-color: #585858;\n",
       "  color: #f1f1f1;\n",
       "}\n",
       "#T_4f4e0_row13_col13 {\n",
       "  font-size: 6pt;\n",
       "  background-color: #5a5a5a;\n",
       "  color: #f1f1f1;\n",
       "}\n",
       "#T_4f4e0_row13_col16 {\n",
       "  font-size: 6pt;\n",
       "  background-color: #525252;\n",
       "  color: #f1f1f1;\n",
       "}\n",
       "#T_4f4e0_row14_col12, #T_4f4e0_row19_col11 {\n",
       "  font-size: 6pt;\n",
       "  background-color: #c5c5c5;\n",
       "  color: #000000;\n",
       "}\n",
       "#T_4f4e0_row14_col16 {\n",
       "  font-size: 6pt;\n",
       "  background-color: #d7d7d7;\n",
       "  color: #000000;\n",
       "}\n",
       "#T_4f4e0_row15_col11, #T_4f4e0_row18_col5 {\n",
       "  font-size: 6pt;\n",
       "  background-color: #dcdcdc;\n",
       "  color: #000000;\n",
       "}\n",
       "#T_4f4e0_row15_col12 {\n",
       "  font-size: 6pt;\n",
       "  background-color: #2f2f2f;\n",
       "  color: #f1f1f1;\n",
       "}\n",
       "#T_4f4e0_row15_col15 {\n",
       "  font-size: 6pt;\n",
       "  background-color: #636363;\n",
       "  color: #f1f1f1;\n",
       "}\n",
       "#T_4f4e0_row16_col11 {\n",
       "  font-size: 6pt;\n",
       "  background-color: #070707;\n",
       "  color: #f1f1f1;\n",
       "}\n",
       "#T_4f4e0_row16_col14 {\n",
       "  font-size: 6pt;\n",
       "  background-color: #1f1f1f;\n",
       "  color: #f1f1f1;\n",
       "}\n",
       "#T_4f4e0_row17_col8, #T_4f4e0_row18_col2, #T_4f4e0_row18_col4 {\n",
       "  font-size: 6pt;\n",
       "  background-color: #e9e9e9;\n",
       "  color: #000000;\n",
       "}\n",
       "#T_4f4e0_row17_col9 {\n",
       "  font-size: 6pt;\n",
       "  background-color: #7d7d7d;\n",
       "  color: #f1f1f1;\n",
       "}\n",
       "#T_4f4e0_row17_col14 {\n",
       "  font-size: 6pt;\n",
       "  background-color: #e1e1e1;\n",
       "  color: #000000;\n",
       "}\n",
       "#T_4f4e0_row18_col3, #T_4f4e0_row18_col6 {\n",
       "  font-size: 6pt;\n",
       "  background-color: #a4a4a4;\n",
       "  color: #f1f1f1;\n",
       "}\n",
       "#T_4f4e0_row18_col7 {\n",
       "  font-size: 6pt;\n",
       "  background-color: #727272;\n",
       "  color: #f1f1f1;\n",
       "}\n",
       "#T_4f4e0_row18_col12 {\n",
       "  font-size: 6pt;\n",
       "  background-color: #616161;\n",
       "  color: #f1f1f1;\n",
       "}\n",
       "#T_4f4e0_row18_col13 {\n",
       "  font-size: 6pt;\n",
       "  background-color: #f3f3f3;\n",
       "  color: #000000;\n",
       "}\n",
       "#T_4f4e0_row19_col10 {\n",
       "  font-size: 6pt;\n",
       "  background-color: #484848;\n",
       "  color: #f1f1f1;\n",
       "}\n",
       "#T_4f4e0_row20_col2 {\n",
       "  font-size: 6pt;\n",
       "  background-color: #b3b3b3;\n",
       "  color: #000000;\n",
       "}\n",
       "#T_4f4e0_row20_col8 {\n",
       "  font-size: 6pt;\n",
       "  background-color: #1a1a1a;\n",
       "  color: #f1f1f1;\n",
       "}\n",
       "#T_4f4e0_row20_col9 {\n",
       "  font-size: 6pt;\n",
       "  background-color: #d6d6d6;\n",
       "  color: #000000;\n",
       "}\n",
       "</style>\n",
       "<table id=\"T_4f4e0\">\n",
       "  <thead>\n",
       "    <tr>\n",
       "      <th class=\"blank level0\" >&nbsp;</th>\n",
       "      <th id=\"T_4f4e0_level0_col0\" class=\"col_heading level0 col0\" >0</th>\n",
       "      <th id=\"T_4f4e0_level0_col1\" class=\"col_heading level0 col1\" >1</th>\n",
       "      <th id=\"T_4f4e0_level0_col2\" class=\"col_heading level0 col2\" >2</th>\n",
       "      <th id=\"T_4f4e0_level0_col3\" class=\"col_heading level0 col3\" >3</th>\n",
       "      <th id=\"T_4f4e0_level0_col4\" class=\"col_heading level0 col4\" >4</th>\n",
       "      <th id=\"T_4f4e0_level0_col5\" class=\"col_heading level0 col5\" >5</th>\n",
       "      <th id=\"T_4f4e0_level0_col6\" class=\"col_heading level0 col6\" >6</th>\n",
       "      <th id=\"T_4f4e0_level0_col7\" class=\"col_heading level0 col7\" >7</th>\n",
       "      <th id=\"T_4f4e0_level0_col8\" class=\"col_heading level0 col8\" >8</th>\n",
       "      <th id=\"T_4f4e0_level0_col9\" class=\"col_heading level0 col9\" >9</th>\n",
       "      <th id=\"T_4f4e0_level0_col10\" class=\"col_heading level0 col10\" >10</th>\n",
       "      <th id=\"T_4f4e0_level0_col11\" class=\"col_heading level0 col11\" >11</th>\n",
       "      <th id=\"T_4f4e0_level0_col12\" class=\"col_heading level0 col12\" >12</th>\n",
       "      <th id=\"T_4f4e0_level0_col13\" class=\"col_heading level0 col13\" >13</th>\n",
       "      <th id=\"T_4f4e0_level0_col14\" class=\"col_heading level0 col14\" >14</th>\n",
       "      <th id=\"T_4f4e0_level0_col15\" class=\"col_heading level0 col15\" >15</th>\n",
       "      <th id=\"T_4f4e0_level0_col16\" class=\"col_heading level0 col16\" >16</th>\n",
       "      <th id=\"T_4f4e0_level0_col17\" class=\"col_heading level0 col17\" >17</th>\n",
       "      <th id=\"T_4f4e0_level0_col18\" class=\"col_heading level0 col18\" >18</th>\n",
       "    </tr>\n",
       "  </thead>\n",
       "  <tbody>\n",
       "    <tr>\n",
       "      <th id=\"T_4f4e0_level0_row0\" class=\"row_heading level0 row0\" >0</th>\n",
       "      <td id=\"T_4f4e0_row0_col0\" class=\"data row0 col0\" >0</td>\n",
       "      <td id=\"T_4f4e0_row0_col1\" class=\"data row0 col1\" >0</td>\n",
       "      <td id=\"T_4f4e0_row0_col2\" class=\"data row0 col2\" >0</td>\n",
       "      <td id=\"T_4f4e0_row0_col3\" class=\"data row0 col3\" >0</td>\n",
       "      <td id=\"T_4f4e0_row0_col4\" class=\"data row0 col4\" >0</td>\n",
       "      <td id=\"T_4f4e0_row0_col5\" class=\"data row0 col5\" >0</td>\n",
       "      <td id=\"T_4f4e0_row0_col6\" class=\"data row0 col6\" >0</td>\n",
       "      <td id=\"T_4f4e0_row0_col7\" class=\"data row0 col7\" >0</td>\n",
       "      <td id=\"T_4f4e0_row0_col8\" class=\"data row0 col8\" >0</td>\n",
       "      <td id=\"T_4f4e0_row0_col9\" class=\"data row0 col9\" >0</td>\n",
       "      <td id=\"T_4f4e0_row0_col10\" class=\"data row0 col10\" >0</td>\n",
       "      <td id=\"T_4f4e0_row0_col11\" class=\"data row0 col11\" >0</td>\n",
       "      <td id=\"T_4f4e0_row0_col12\" class=\"data row0 col12\" >0</td>\n",
       "      <td id=\"T_4f4e0_row0_col13\" class=\"data row0 col13\" >0</td>\n",
       "      <td id=\"T_4f4e0_row0_col14\" class=\"data row0 col14\" >0</td>\n",
       "      <td id=\"T_4f4e0_row0_col15\" class=\"data row0 col15\" >0</td>\n",
       "      <td id=\"T_4f4e0_row0_col16\" class=\"data row0 col16\" >0</td>\n",
       "      <td id=\"T_4f4e0_row0_col17\" class=\"data row0 col17\" >0</td>\n",
       "      <td id=\"T_4f4e0_row0_col18\" class=\"data row0 col18\" >0</td>\n",
       "    </tr>\n",
       "    <tr>\n",
       "      <th id=\"T_4f4e0_level0_row1\" class=\"row_heading level0 row1\" >1</th>\n",
       "      <td id=\"T_4f4e0_row1_col0\" class=\"data row1 col0\" >0</td>\n",
       "      <td id=\"T_4f4e0_row1_col1\" class=\"data row1 col1\" >0</td>\n",
       "      <td id=\"T_4f4e0_row1_col2\" class=\"data row1 col2\" >0</td>\n",
       "      <td id=\"T_4f4e0_row1_col3\" class=\"data row1 col3\" >0</td>\n",
       "      <td id=\"T_4f4e0_row1_col4\" class=\"data row1 col4\" >0</td>\n",
       "      <td id=\"T_4f4e0_row1_col5\" class=\"data row1 col5\" >29</td>\n",
       "      <td id=\"T_4f4e0_row1_col6\" class=\"data row1 col6\" >150</td>\n",
       "      <td id=\"T_4f4e0_row1_col7\" class=\"data row1 col7\" >195</td>\n",
       "      <td id=\"T_4f4e0_row1_col8\" class=\"data row1 col8\" >254</td>\n",
       "      <td id=\"T_4f4e0_row1_col9\" class=\"data row1 col9\" >255</td>\n",
       "      <td id=\"T_4f4e0_row1_col10\" class=\"data row1 col10\" >254</td>\n",
       "      <td id=\"T_4f4e0_row1_col11\" class=\"data row1 col11\" >176</td>\n",
       "      <td id=\"T_4f4e0_row1_col12\" class=\"data row1 col12\" >193</td>\n",
       "      <td id=\"T_4f4e0_row1_col13\" class=\"data row1 col13\" >150</td>\n",
       "      <td id=\"T_4f4e0_row1_col14\" class=\"data row1 col14\" >96</td>\n",
       "      <td id=\"T_4f4e0_row1_col15\" class=\"data row1 col15\" >0</td>\n",
       "      <td id=\"T_4f4e0_row1_col16\" class=\"data row1 col16\" >0</td>\n",
       "      <td id=\"T_4f4e0_row1_col17\" class=\"data row1 col17\" >0</td>\n",
       "      <td id=\"T_4f4e0_row1_col18\" class=\"data row1 col18\" >0</td>\n",
       "    </tr>\n",
       "    <tr>\n",
       "      <th id=\"T_4f4e0_level0_row2\" class=\"row_heading level0 row2\" >2</th>\n",
       "      <td id=\"T_4f4e0_row2_col0\" class=\"data row2 col0\" >0</td>\n",
       "      <td id=\"T_4f4e0_row2_col1\" class=\"data row2 col1\" >0</td>\n",
       "      <td id=\"T_4f4e0_row2_col2\" class=\"data row2 col2\" >0</td>\n",
       "      <td id=\"T_4f4e0_row2_col3\" class=\"data row2 col3\" >48</td>\n",
       "      <td id=\"T_4f4e0_row2_col4\" class=\"data row2 col4\" >166</td>\n",
       "      <td id=\"T_4f4e0_row2_col5\" class=\"data row2 col5\" >224</td>\n",
       "      <td id=\"T_4f4e0_row2_col6\" class=\"data row2 col6\" >253</td>\n",
       "      <td id=\"T_4f4e0_row2_col7\" class=\"data row2 col7\" >253</td>\n",
       "      <td id=\"T_4f4e0_row2_col8\" class=\"data row2 col8\" >234</td>\n",
       "      <td id=\"T_4f4e0_row2_col9\" class=\"data row2 col9\" >196</td>\n",
       "      <td id=\"T_4f4e0_row2_col10\" class=\"data row2 col10\" >253</td>\n",
       "      <td id=\"T_4f4e0_row2_col11\" class=\"data row2 col11\" >253</td>\n",
       "      <td id=\"T_4f4e0_row2_col12\" class=\"data row2 col12\" >253</td>\n",
       "      <td id=\"T_4f4e0_row2_col13\" class=\"data row2 col13\" >253</td>\n",
       "      <td id=\"T_4f4e0_row2_col14\" class=\"data row2 col14\" >233</td>\n",
       "      <td id=\"T_4f4e0_row2_col15\" class=\"data row2 col15\" >0</td>\n",
       "      <td id=\"T_4f4e0_row2_col16\" class=\"data row2 col16\" >0</td>\n",
       "      <td id=\"T_4f4e0_row2_col17\" class=\"data row2 col17\" >0</td>\n",
       "      <td id=\"T_4f4e0_row2_col18\" class=\"data row2 col18\" >0</td>\n",
       "    </tr>\n",
       "    <tr>\n",
       "      <th id=\"T_4f4e0_level0_row3\" class=\"row_heading level0 row3\" >3</th>\n",
       "      <td id=\"T_4f4e0_row3_col0\" class=\"data row3 col0\" >0</td>\n",
       "      <td id=\"T_4f4e0_row3_col1\" class=\"data row3 col1\" >93</td>\n",
       "      <td id=\"T_4f4e0_row3_col2\" class=\"data row3 col2\" >244</td>\n",
       "      <td id=\"T_4f4e0_row3_col3\" class=\"data row3 col3\" >249</td>\n",
       "      <td id=\"T_4f4e0_row3_col4\" class=\"data row3 col4\" >253</td>\n",
       "      <td id=\"T_4f4e0_row3_col5\" class=\"data row3 col5\" >187</td>\n",
       "      <td id=\"T_4f4e0_row3_col6\" class=\"data row3 col6\" >46</td>\n",
       "      <td id=\"T_4f4e0_row3_col7\" class=\"data row3 col7\" >10</td>\n",
       "      <td id=\"T_4f4e0_row3_col8\" class=\"data row3 col8\" >8</td>\n",
       "      <td id=\"T_4f4e0_row3_col9\" class=\"data row3 col9\" >4</td>\n",
       "      <td id=\"T_4f4e0_row3_col10\" class=\"data row3 col10\" >10</td>\n",
       "      <td id=\"T_4f4e0_row3_col11\" class=\"data row3 col11\" >194</td>\n",
       "      <td id=\"T_4f4e0_row3_col12\" class=\"data row3 col12\" >253</td>\n",
       "      <td id=\"T_4f4e0_row3_col13\" class=\"data row3 col13\" >253</td>\n",
       "      <td id=\"T_4f4e0_row3_col14\" class=\"data row3 col14\" >233</td>\n",
       "      <td id=\"T_4f4e0_row3_col15\" class=\"data row3 col15\" >0</td>\n",
       "      <td id=\"T_4f4e0_row3_col16\" class=\"data row3 col16\" >0</td>\n",
       "      <td id=\"T_4f4e0_row3_col17\" class=\"data row3 col17\" >0</td>\n",
       "      <td id=\"T_4f4e0_row3_col18\" class=\"data row3 col18\" >0</td>\n",
       "    </tr>\n",
       "    <tr>\n",
       "      <th id=\"T_4f4e0_level0_row4\" class=\"row_heading level0 row4\" >4</th>\n",
       "      <td id=\"T_4f4e0_row4_col0\" class=\"data row4 col0\" >0</td>\n",
       "      <td id=\"T_4f4e0_row4_col1\" class=\"data row4 col1\" >107</td>\n",
       "      <td id=\"T_4f4e0_row4_col2\" class=\"data row4 col2\" >253</td>\n",
       "      <td id=\"T_4f4e0_row4_col3\" class=\"data row4 col3\" >253</td>\n",
       "      <td id=\"T_4f4e0_row4_col4\" class=\"data row4 col4\" >230</td>\n",
       "      <td id=\"T_4f4e0_row4_col5\" class=\"data row4 col5\" >48</td>\n",
       "      <td id=\"T_4f4e0_row4_col6\" class=\"data row4 col6\" >0</td>\n",
       "      <td id=\"T_4f4e0_row4_col7\" class=\"data row4 col7\" >0</td>\n",
       "      <td id=\"T_4f4e0_row4_col8\" class=\"data row4 col8\" >0</td>\n",
       "      <td id=\"T_4f4e0_row4_col9\" class=\"data row4 col9\" >0</td>\n",
       "      <td id=\"T_4f4e0_row4_col10\" class=\"data row4 col10\" >0</td>\n",
       "      <td id=\"T_4f4e0_row4_col11\" class=\"data row4 col11\" >192</td>\n",
       "      <td id=\"T_4f4e0_row4_col12\" class=\"data row4 col12\" >253</td>\n",
       "      <td id=\"T_4f4e0_row4_col13\" class=\"data row4 col13\" >253</td>\n",
       "      <td id=\"T_4f4e0_row4_col14\" class=\"data row4 col14\" >156</td>\n",
       "      <td id=\"T_4f4e0_row4_col15\" class=\"data row4 col15\" >0</td>\n",
       "      <td id=\"T_4f4e0_row4_col16\" class=\"data row4 col16\" >0</td>\n",
       "      <td id=\"T_4f4e0_row4_col17\" class=\"data row4 col17\" >0</td>\n",
       "      <td id=\"T_4f4e0_row4_col18\" class=\"data row4 col18\" >0</td>\n",
       "    </tr>\n",
       "    <tr>\n",
       "      <th id=\"T_4f4e0_level0_row5\" class=\"row_heading level0 row5\" >5</th>\n",
       "      <td id=\"T_4f4e0_row5_col0\" class=\"data row5 col0\" >0</td>\n",
       "      <td id=\"T_4f4e0_row5_col1\" class=\"data row5 col1\" >3</td>\n",
       "      <td id=\"T_4f4e0_row5_col2\" class=\"data row5 col2\" >20</td>\n",
       "      <td id=\"T_4f4e0_row5_col3\" class=\"data row5 col3\" >20</td>\n",
       "      <td id=\"T_4f4e0_row5_col4\" class=\"data row5 col4\" >15</td>\n",
       "      <td id=\"T_4f4e0_row5_col5\" class=\"data row5 col5\" >0</td>\n",
       "      <td id=\"T_4f4e0_row5_col6\" class=\"data row5 col6\" >0</td>\n",
       "      <td id=\"T_4f4e0_row5_col7\" class=\"data row5 col7\" >0</td>\n",
       "      <td id=\"T_4f4e0_row5_col8\" class=\"data row5 col8\" >0</td>\n",
       "      <td id=\"T_4f4e0_row5_col9\" class=\"data row5 col9\" >0</td>\n",
       "      <td id=\"T_4f4e0_row5_col10\" class=\"data row5 col10\" >43</td>\n",
       "      <td id=\"T_4f4e0_row5_col11\" class=\"data row5 col11\" >224</td>\n",
       "      <td id=\"T_4f4e0_row5_col12\" class=\"data row5 col12\" >253</td>\n",
       "      <td id=\"T_4f4e0_row5_col13\" class=\"data row5 col13\" >245</td>\n",
       "      <td id=\"T_4f4e0_row5_col14\" class=\"data row5 col14\" >74</td>\n",
       "      <td id=\"T_4f4e0_row5_col15\" class=\"data row5 col15\" >0</td>\n",
       "      <td id=\"T_4f4e0_row5_col16\" class=\"data row5 col16\" >0</td>\n",
       "      <td id=\"T_4f4e0_row5_col17\" class=\"data row5 col17\" >0</td>\n",
       "      <td id=\"T_4f4e0_row5_col18\" class=\"data row5 col18\" >0</td>\n",
       "    </tr>\n",
       "    <tr>\n",
       "      <th id=\"T_4f4e0_level0_row6\" class=\"row_heading level0 row6\" >6</th>\n",
       "      <td id=\"T_4f4e0_row6_col0\" class=\"data row6 col0\" >0</td>\n",
       "      <td id=\"T_4f4e0_row6_col1\" class=\"data row6 col1\" >0</td>\n",
       "      <td id=\"T_4f4e0_row6_col2\" class=\"data row6 col2\" >0</td>\n",
       "      <td id=\"T_4f4e0_row6_col3\" class=\"data row6 col3\" >0</td>\n",
       "      <td id=\"T_4f4e0_row6_col4\" class=\"data row6 col4\" >0</td>\n",
       "      <td id=\"T_4f4e0_row6_col5\" class=\"data row6 col5\" >0</td>\n",
       "      <td id=\"T_4f4e0_row6_col6\" class=\"data row6 col6\" >0</td>\n",
       "      <td id=\"T_4f4e0_row6_col7\" class=\"data row6 col7\" >0</td>\n",
       "      <td id=\"T_4f4e0_row6_col8\" class=\"data row6 col8\" >0</td>\n",
       "      <td id=\"T_4f4e0_row6_col9\" class=\"data row6 col9\" >0</td>\n",
       "      <td id=\"T_4f4e0_row6_col10\" class=\"data row6 col10\" >249</td>\n",
       "      <td id=\"T_4f4e0_row6_col11\" class=\"data row6 col11\" >253</td>\n",
       "      <td id=\"T_4f4e0_row6_col12\" class=\"data row6 col12\" >245</td>\n",
       "      <td id=\"T_4f4e0_row6_col13\" class=\"data row6 col13\" >126</td>\n",
       "      <td id=\"T_4f4e0_row6_col14\" class=\"data row6 col14\" >0</td>\n",
       "      <td id=\"T_4f4e0_row6_col15\" class=\"data row6 col15\" >0</td>\n",
       "      <td id=\"T_4f4e0_row6_col16\" class=\"data row6 col16\" >0</td>\n",
       "      <td id=\"T_4f4e0_row6_col17\" class=\"data row6 col17\" >0</td>\n",
       "      <td id=\"T_4f4e0_row6_col18\" class=\"data row6 col18\" >0</td>\n",
       "    </tr>\n",
       "    <tr>\n",
       "      <th id=\"T_4f4e0_level0_row7\" class=\"row_heading level0 row7\" >7</th>\n",
       "      <td id=\"T_4f4e0_row7_col0\" class=\"data row7 col0\" >0</td>\n",
       "      <td id=\"T_4f4e0_row7_col1\" class=\"data row7 col1\" >0</td>\n",
       "      <td id=\"T_4f4e0_row7_col2\" class=\"data row7 col2\" >0</td>\n",
       "      <td id=\"T_4f4e0_row7_col3\" class=\"data row7 col3\" >0</td>\n",
       "      <td id=\"T_4f4e0_row7_col4\" class=\"data row7 col4\" >0</td>\n",
       "      <td id=\"T_4f4e0_row7_col5\" class=\"data row7 col5\" >0</td>\n",
       "      <td id=\"T_4f4e0_row7_col6\" class=\"data row7 col6\" >0</td>\n",
       "      <td id=\"T_4f4e0_row7_col7\" class=\"data row7 col7\" >14</td>\n",
       "      <td id=\"T_4f4e0_row7_col8\" class=\"data row7 col8\" >101</td>\n",
       "      <td id=\"T_4f4e0_row7_col9\" class=\"data row7 col9\" >223</td>\n",
       "      <td id=\"T_4f4e0_row7_col10\" class=\"data row7 col10\" >253</td>\n",
       "      <td id=\"T_4f4e0_row7_col11\" class=\"data row7 col11\" >248</td>\n",
       "      <td id=\"T_4f4e0_row7_col12\" class=\"data row7 col12\" >124</td>\n",
       "      <td id=\"T_4f4e0_row7_col13\" class=\"data row7 col13\" >0</td>\n",
       "      <td id=\"T_4f4e0_row7_col14\" class=\"data row7 col14\" >0</td>\n",
       "      <td id=\"T_4f4e0_row7_col15\" class=\"data row7 col15\" >0</td>\n",
       "      <td id=\"T_4f4e0_row7_col16\" class=\"data row7 col16\" >0</td>\n",
       "      <td id=\"T_4f4e0_row7_col17\" class=\"data row7 col17\" >0</td>\n",
       "      <td id=\"T_4f4e0_row7_col18\" class=\"data row7 col18\" >0</td>\n",
       "    </tr>\n",
       "    <tr>\n",
       "      <th id=\"T_4f4e0_level0_row8\" class=\"row_heading level0 row8\" >8</th>\n",
       "      <td id=\"T_4f4e0_row8_col0\" class=\"data row8 col0\" >0</td>\n",
       "      <td id=\"T_4f4e0_row8_col1\" class=\"data row8 col1\" >0</td>\n",
       "      <td id=\"T_4f4e0_row8_col2\" class=\"data row8 col2\" >0</td>\n",
       "      <td id=\"T_4f4e0_row8_col3\" class=\"data row8 col3\" >0</td>\n",
       "      <td id=\"T_4f4e0_row8_col4\" class=\"data row8 col4\" >0</td>\n",
       "      <td id=\"T_4f4e0_row8_col5\" class=\"data row8 col5\" >11</td>\n",
       "      <td id=\"T_4f4e0_row8_col6\" class=\"data row8 col6\" >166</td>\n",
       "      <td id=\"T_4f4e0_row8_col7\" class=\"data row8 col7\" >239</td>\n",
       "      <td id=\"T_4f4e0_row8_col8\" class=\"data row8 col8\" >253</td>\n",
       "      <td id=\"T_4f4e0_row8_col9\" class=\"data row8 col9\" >253</td>\n",
       "      <td id=\"T_4f4e0_row8_col10\" class=\"data row8 col10\" >253</td>\n",
       "      <td id=\"T_4f4e0_row8_col11\" class=\"data row8 col11\" >187</td>\n",
       "      <td id=\"T_4f4e0_row8_col12\" class=\"data row8 col12\" >30</td>\n",
       "      <td id=\"T_4f4e0_row8_col13\" class=\"data row8 col13\" >0</td>\n",
       "      <td id=\"T_4f4e0_row8_col14\" class=\"data row8 col14\" >0</td>\n",
       "      <td id=\"T_4f4e0_row8_col15\" class=\"data row8 col15\" >0</td>\n",
       "      <td id=\"T_4f4e0_row8_col16\" class=\"data row8 col16\" >0</td>\n",
       "      <td id=\"T_4f4e0_row8_col17\" class=\"data row8 col17\" >0</td>\n",
       "      <td id=\"T_4f4e0_row8_col18\" class=\"data row8 col18\" >0</td>\n",
       "    </tr>\n",
       "    <tr>\n",
       "      <th id=\"T_4f4e0_level0_row9\" class=\"row_heading level0 row9\" >9</th>\n",
       "      <td id=\"T_4f4e0_row9_col0\" class=\"data row9 col0\" >0</td>\n",
       "      <td id=\"T_4f4e0_row9_col1\" class=\"data row9 col1\" >0</td>\n",
       "      <td id=\"T_4f4e0_row9_col2\" class=\"data row9 col2\" >0</td>\n",
       "      <td id=\"T_4f4e0_row9_col3\" class=\"data row9 col3\" >0</td>\n",
       "      <td id=\"T_4f4e0_row9_col4\" class=\"data row9 col4\" >0</td>\n",
       "      <td id=\"T_4f4e0_row9_col5\" class=\"data row9 col5\" >16</td>\n",
       "      <td id=\"T_4f4e0_row9_col6\" class=\"data row9 col6\" >248</td>\n",
       "      <td id=\"T_4f4e0_row9_col7\" class=\"data row9 col7\" >250</td>\n",
       "      <td id=\"T_4f4e0_row9_col8\" class=\"data row9 col8\" >253</td>\n",
       "      <td id=\"T_4f4e0_row9_col9\" class=\"data row9 col9\" >253</td>\n",
       "      <td id=\"T_4f4e0_row9_col10\" class=\"data row9 col10\" >253</td>\n",
       "      <td id=\"T_4f4e0_row9_col11\" class=\"data row9 col11\" >253</td>\n",
       "      <td id=\"T_4f4e0_row9_col12\" class=\"data row9 col12\" >232</td>\n",
       "      <td id=\"T_4f4e0_row9_col13\" class=\"data row9 col13\" >213</td>\n",
       "      <td id=\"T_4f4e0_row9_col14\" class=\"data row9 col14\" >111</td>\n",
       "      <td id=\"T_4f4e0_row9_col15\" class=\"data row9 col15\" >2</td>\n",
       "      <td id=\"T_4f4e0_row9_col16\" class=\"data row9 col16\" >0</td>\n",
       "      <td id=\"T_4f4e0_row9_col17\" class=\"data row9 col17\" >0</td>\n",
       "      <td id=\"T_4f4e0_row9_col18\" class=\"data row9 col18\" >0</td>\n",
       "    </tr>\n",
       "    <tr>\n",
       "      <th id=\"T_4f4e0_level0_row10\" class=\"row_heading level0 row10\" >10</th>\n",
       "      <td id=\"T_4f4e0_row10_col0\" class=\"data row10 col0\" >0</td>\n",
       "      <td id=\"T_4f4e0_row10_col1\" class=\"data row10 col1\" >0</td>\n",
       "      <td id=\"T_4f4e0_row10_col2\" class=\"data row10 col2\" >0</td>\n",
       "      <td id=\"T_4f4e0_row10_col3\" class=\"data row10 col3\" >0</td>\n",
       "      <td id=\"T_4f4e0_row10_col4\" class=\"data row10 col4\" >0</td>\n",
       "      <td id=\"T_4f4e0_row10_col5\" class=\"data row10 col5\" >0</td>\n",
       "      <td id=\"T_4f4e0_row10_col6\" class=\"data row10 col6\" >0</td>\n",
       "      <td id=\"T_4f4e0_row10_col7\" class=\"data row10 col7\" >43</td>\n",
       "      <td id=\"T_4f4e0_row10_col8\" class=\"data row10 col8\" >98</td>\n",
       "      <td id=\"T_4f4e0_row10_col9\" class=\"data row10 col9\" >98</td>\n",
       "      <td id=\"T_4f4e0_row10_col10\" class=\"data row10 col10\" >208</td>\n",
       "      <td id=\"T_4f4e0_row10_col11\" class=\"data row10 col11\" >253</td>\n",
       "      <td id=\"T_4f4e0_row10_col12\" class=\"data row10 col12\" >253</td>\n",
       "      <td id=\"T_4f4e0_row10_col13\" class=\"data row10 col13\" >253</td>\n",
       "      <td id=\"T_4f4e0_row10_col14\" class=\"data row10 col14\" >253</td>\n",
       "      <td id=\"T_4f4e0_row10_col15\" class=\"data row10 col15\" >187</td>\n",
       "      <td id=\"T_4f4e0_row10_col16\" class=\"data row10 col16\" >22</td>\n",
       "      <td id=\"T_4f4e0_row10_col17\" class=\"data row10 col17\" >0</td>\n",
       "      <td id=\"T_4f4e0_row10_col18\" class=\"data row10 col18\" >0</td>\n",
       "    </tr>\n",
       "    <tr>\n",
       "      <th id=\"T_4f4e0_level0_row11\" class=\"row_heading level0 row11\" >11</th>\n",
       "      <td id=\"T_4f4e0_row11_col0\" class=\"data row11 col0\" >0</td>\n",
       "      <td id=\"T_4f4e0_row11_col1\" class=\"data row11 col1\" >0</td>\n",
       "      <td id=\"T_4f4e0_row11_col2\" class=\"data row11 col2\" >0</td>\n",
       "      <td id=\"T_4f4e0_row11_col3\" class=\"data row11 col3\" >0</td>\n",
       "      <td id=\"T_4f4e0_row11_col4\" class=\"data row11 col4\" >0</td>\n",
       "      <td id=\"T_4f4e0_row11_col5\" class=\"data row11 col5\" >0</td>\n",
       "      <td id=\"T_4f4e0_row11_col6\" class=\"data row11 col6\" >0</td>\n",
       "      <td id=\"T_4f4e0_row11_col7\" class=\"data row11 col7\" >0</td>\n",
       "      <td id=\"T_4f4e0_row11_col8\" class=\"data row11 col8\" >0</td>\n",
       "      <td id=\"T_4f4e0_row11_col9\" class=\"data row11 col9\" >0</td>\n",
       "      <td id=\"T_4f4e0_row11_col10\" class=\"data row11 col10\" >9</td>\n",
       "      <td id=\"T_4f4e0_row11_col11\" class=\"data row11 col11\" >51</td>\n",
       "      <td id=\"T_4f4e0_row11_col12\" class=\"data row11 col12\" >119</td>\n",
       "      <td id=\"T_4f4e0_row11_col13\" class=\"data row11 col13\" >253</td>\n",
       "      <td id=\"T_4f4e0_row11_col14\" class=\"data row11 col14\" >253</td>\n",
       "      <td id=\"T_4f4e0_row11_col15\" class=\"data row11 col15\" >253</td>\n",
       "      <td id=\"T_4f4e0_row11_col16\" class=\"data row11 col16\" >76</td>\n",
       "      <td id=\"T_4f4e0_row11_col17\" class=\"data row11 col17\" >0</td>\n",
       "      <td id=\"T_4f4e0_row11_col18\" class=\"data row11 col18\" >0</td>\n",
       "    </tr>\n",
       "    <tr>\n",
       "      <th id=\"T_4f4e0_level0_row12\" class=\"row_heading level0 row12\" >12</th>\n",
       "      <td id=\"T_4f4e0_row12_col0\" class=\"data row12 col0\" >0</td>\n",
       "      <td id=\"T_4f4e0_row12_col1\" class=\"data row12 col1\" >0</td>\n",
       "      <td id=\"T_4f4e0_row12_col2\" class=\"data row12 col2\" >0</td>\n",
       "      <td id=\"T_4f4e0_row12_col3\" class=\"data row12 col3\" >0</td>\n",
       "      <td id=\"T_4f4e0_row12_col4\" class=\"data row12 col4\" >0</td>\n",
       "      <td id=\"T_4f4e0_row12_col5\" class=\"data row12 col5\" >0</td>\n",
       "      <td id=\"T_4f4e0_row12_col6\" class=\"data row12 col6\" >0</td>\n",
       "      <td id=\"T_4f4e0_row12_col7\" class=\"data row12 col7\" >0</td>\n",
       "      <td id=\"T_4f4e0_row12_col8\" class=\"data row12 col8\" >0</td>\n",
       "      <td id=\"T_4f4e0_row12_col9\" class=\"data row12 col9\" >0</td>\n",
       "      <td id=\"T_4f4e0_row12_col10\" class=\"data row12 col10\" >0</td>\n",
       "      <td id=\"T_4f4e0_row12_col11\" class=\"data row12 col11\" >0</td>\n",
       "      <td id=\"T_4f4e0_row12_col12\" class=\"data row12 col12\" >1</td>\n",
       "      <td id=\"T_4f4e0_row12_col13\" class=\"data row12 col13\" >183</td>\n",
       "      <td id=\"T_4f4e0_row12_col14\" class=\"data row12 col14\" >253</td>\n",
       "      <td id=\"T_4f4e0_row12_col15\" class=\"data row12 col15\" >253</td>\n",
       "      <td id=\"T_4f4e0_row12_col16\" class=\"data row12 col16\" >139</td>\n",
       "      <td id=\"T_4f4e0_row12_col17\" class=\"data row12 col17\" >0</td>\n",
       "      <td id=\"T_4f4e0_row12_col18\" class=\"data row12 col18\" >0</td>\n",
       "    </tr>\n",
       "    <tr>\n",
       "      <th id=\"T_4f4e0_level0_row13\" class=\"row_heading level0 row13\" >13</th>\n",
       "      <td id=\"T_4f4e0_row13_col0\" class=\"data row13 col0\" >0</td>\n",
       "      <td id=\"T_4f4e0_row13_col1\" class=\"data row13 col1\" >0</td>\n",
       "      <td id=\"T_4f4e0_row13_col2\" class=\"data row13 col2\" >0</td>\n",
       "      <td id=\"T_4f4e0_row13_col3\" class=\"data row13 col3\" >0</td>\n",
       "      <td id=\"T_4f4e0_row13_col4\" class=\"data row13 col4\" >0</td>\n",
       "      <td id=\"T_4f4e0_row13_col5\" class=\"data row13 col5\" >0</td>\n",
       "      <td id=\"T_4f4e0_row13_col6\" class=\"data row13 col6\" >0</td>\n",
       "      <td id=\"T_4f4e0_row13_col7\" class=\"data row13 col7\" >0</td>\n",
       "      <td id=\"T_4f4e0_row13_col8\" class=\"data row13 col8\" >0</td>\n",
       "      <td id=\"T_4f4e0_row13_col9\" class=\"data row13 col9\" >0</td>\n",
       "      <td id=\"T_4f4e0_row13_col10\" class=\"data row13 col10\" >0</td>\n",
       "      <td id=\"T_4f4e0_row13_col11\" class=\"data row13 col11\" >0</td>\n",
       "      <td id=\"T_4f4e0_row13_col12\" class=\"data row13 col12\" >0</td>\n",
       "      <td id=\"T_4f4e0_row13_col13\" class=\"data row13 col13\" >182</td>\n",
       "      <td id=\"T_4f4e0_row13_col14\" class=\"data row13 col14\" >253</td>\n",
       "      <td id=\"T_4f4e0_row13_col15\" class=\"data row13 col15\" >253</td>\n",
       "      <td id=\"T_4f4e0_row13_col16\" class=\"data row13 col16\" >104</td>\n",
       "      <td id=\"T_4f4e0_row13_col17\" class=\"data row13 col17\" >0</td>\n",
       "      <td id=\"T_4f4e0_row13_col18\" class=\"data row13 col18\" >0</td>\n",
       "    </tr>\n",
       "    <tr>\n",
       "      <th id=\"T_4f4e0_level0_row14\" class=\"row_heading level0 row14\" >14</th>\n",
       "      <td id=\"T_4f4e0_row14_col0\" class=\"data row14 col0\" >0</td>\n",
       "      <td id=\"T_4f4e0_row14_col1\" class=\"data row14 col1\" >0</td>\n",
       "      <td id=\"T_4f4e0_row14_col2\" class=\"data row14 col2\" >0</td>\n",
       "      <td id=\"T_4f4e0_row14_col3\" class=\"data row14 col3\" >0</td>\n",
       "      <td id=\"T_4f4e0_row14_col4\" class=\"data row14 col4\" >0</td>\n",
       "      <td id=\"T_4f4e0_row14_col5\" class=\"data row14 col5\" >0</td>\n",
       "      <td id=\"T_4f4e0_row14_col6\" class=\"data row14 col6\" >0</td>\n",
       "      <td id=\"T_4f4e0_row14_col7\" class=\"data row14 col7\" >0</td>\n",
       "      <td id=\"T_4f4e0_row14_col8\" class=\"data row14 col8\" >0</td>\n",
       "      <td id=\"T_4f4e0_row14_col9\" class=\"data row14 col9\" >0</td>\n",
       "      <td id=\"T_4f4e0_row14_col10\" class=\"data row14 col10\" >0</td>\n",
       "      <td id=\"T_4f4e0_row14_col11\" class=\"data row14 col11\" >0</td>\n",
       "      <td id=\"T_4f4e0_row14_col12\" class=\"data row14 col12\" >85</td>\n",
       "      <td id=\"T_4f4e0_row14_col13\" class=\"data row14 col13\" >249</td>\n",
       "      <td id=\"T_4f4e0_row14_col14\" class=\"data row14 col14\" >253</td>\n",
       "      <td id=\"T_4f4e0_row14_col15\" class=\"data row14 col15\" >253</td>\n",
       "      <td id=\"T_4f4e0_row14_col16\" class=\"data row14 col16\" >36</td>\n",
       "      <td id=\"T_4f4e0_row14_col17\" class=\"data row14 col17\" >0</td>\n",
       "      <td id=\"T_4f4e0_row14_col18\" class=\"data row14 col18\" >0</td>\n",
       "    </tr>\n",
       "    <tr>\n",
       "      <th id=\"T_4f4e0_level0_row15\" class=\"row_heading level0 row15\" >15</th>\n",
       "      <td id=\"T_4f4e0_row15_col0\" class=\"data row15 col0\" >0</td>\n",
       "      <td id=\"T_4f4e0_row15_col1\" class=\"data row15 col1\" >0</td>\n",
       "      <td id=\"T_4f4e0_row15_col2\" class=\"data row15 col2\" >0</td>\n",
       "      <td id=\"T_4f4e0_row15_col3\" class=\"data row15 col3\" >0</td>\n",
       "      <td id=\"T_4f4e0_row15_col4\" class=\"data row15 col4\" >0</td>\n",
       "      <td id=\"T_4f4e0_row15_col5\" class=\"data row15 col5\" >0</td>\n",
       "      <td id=\"T_4f4e0_row15_col6\" class=\"data row15 col6\" >0</td>\n",
       "      <td id=\"T_4f4e0_row15_col7\" class=\"data row15 col7\" >0</td>\n",
       "      <td id=\"T_4f4e0_row15_col8\" class=\"data row15 col8\" >0</td>\n",
       "      <td id=\"T_4f4e0_row15_col9\" class=\"data row15 col9\" >0</td>\n",
       "      <td id=\"T_4f4e0_row15_col10\" class=\"data row15 col10\" >0</td>\n",
       "      <td id=\"T_4f4e0_row15_col11\" class=\"data row15 col11\" >60</td>\n",
       "      <td id=\"T_4f4e0_row15_col12\" class=\"data row15 col12\" >214</td>\n",
       "      <td id=\"T_4f4e0_row15_col13\" class=\"data row15 col13\" >253</td>\n",
       "      <td id=\"T_4f4e0_row15_col14\" class=\"data row15 col14\" >253</td>\n",
       "      <td id=\"T_4f4e0_row15_col15\" class=\"data row15 col15\" >173</td>\n",
       "      <td id=\"T_4f4e0_row15_col16\" class=\"data row15 col16\" >11</td>\n",
       "      <td id=\"T_4f4e0_row15_col17\" class=\"data row15 col17\" >0</td>\n",
       "      <td id=\"T_4f4e0_row15_col18\" class=\"data row15 col18\" >0</td>\n",
       "    </tr>\n",
       "    <tr>\n",
       "      <th id=\"T_4f4e0_level0_row16\" class=\"row_heading level0 row16\" >16</th>\n",
       "      <td id=\"T_4f4e0_row16_col0\" class=\"data row16 col0\" >0</td>\n",
       "      <td id=\"T_4f4e0_row16_col1\" class=\"data row16 col1\" >0</td>\n",
       "      <td id=\"T_4f4e0_row16_col2\" class=\"data row16 col2\" >0</td>\n",
       "      <td id=\"T_4f4e0_row16_col3\" class=\"data row16 col3\" >0</td>\n",
       "      <td id=\"T_4f4e0_row16_col4\" class=\"data row16 col4\" >0</td>\n",
       "      <td id=\"T_4f4e0_row16_col5\" class=\"data row16 col5\" >0</td>\n",
       "      <td id=\"T_4f4e0_row16_col6\" class=\"data row16 col6\" >0</td>\n",
       "      <td id=\"T_4f4e0_row16_col7\" class=\"data row16 col7\" >0</td>\n",
       "      <td id=\"T_4f4e0_row16_col8\" class=\"data row16 col8\" >0</td>\n",
       "      <td id=\"T_4f4e0_row16_col9\" class=\"data row16 col9\" >0</td>\n",
       "      <td id=\"T_4f4e0_row16_col10\" class=\"data row16 col10\" >98</td>\n",
       "      <td id=\"T_4f4e0_row16_col11\" class=\"data row16 col11\" >247</td>\n",
       "      <td id=\"T_4f4e0_row16_col12\" class=\"data row16 col12\" >253</td>\n",
       "      <td id=\"T_4f4e0_row16_col13\" class=\"data row16 col13\" >253</td>\n",
       "      <td id=\"T_4f4e0_row16_col14\" class=\"data row16 col14\" >226</td>\n",
       "      <td id=\"T_4f4e0_row16_col15\" class=\"data row16 col15\" >9</td>\n",
       "      <td id=\"T_4f4e0_row16_col16\" class=\"data row16 col16\" >0</td>\n",
       "      <td id=\"T_4f4e0_row16_col17\" class=\"data row16 col17\" >0</td>\n",
       "      <td id=\"T_4f4e0_row16_col18\" class=\"data row16 col18\" >0</td>\n",
       "    </tr>\n",
       "    <tr>\n",
       "      <th id=\"T_4f4e0_level0_row17\" class=\"row_heading level0 row17\" >17</th>\n",
       "      <td id=\"T_4f4e0_row17_col0\" class=\"data row17 col0\" >0</td>\n",
       "      <td id=\"T_4f4e0_row17_col1\" class=\"data row17 col1\" >0</td>\n",
       "      <td id=\"T_4f4e0_row17_col2\" class=\"data row17 col2\" >0</td>\n",
       "      <td id=\"T_4f4e0_row17_col3\" class=\"data row17 col3\" >0</td>\n",
       "      <td id=\"T_4f4e0_row17_col4\" class=\"data row17 col4\" >0</td>\n",
       "      <td id=\"T_4f4e0_row17_col5\" class=\"data row17 col5\" >0</td>\n",
       "      <td id=\"T_4f4e0_row17_col6\" class=\"data row17 col6\" >0</td>\n",
       "      <td id=\"T_4f4e0_row17_col7\" class=\"data row17 col7\" >0</td>\n",
       "      <td id=\"T_4f4e0_row17_col8\" class=\"data row17 col8\" >42</td>\n",
       "      <td id=\"T_4f4e0_row17_col9\" class=\"data row17 col9\" >150</td>\n",
       "      <td id=\"T_4f4e0_row17_col10\" class=\"data row17 col10\" >252</td>\n",
       "      <td id=\"T_4f4e0_row17_col11\" class=\"data row17 col11\" >253</td>\n",
       "      <td id=\"T_4f4e0_row17_col12\" class=\"data row17 col12\" >253</td>\n",
       "      <td id=\"T_4f4e0_row17_col13\" class=\"data row17 col13\" >233</td>\n",
       "      <td id=\"T_4f4e0_row17_col14\" class=\"data row17 col14\" >53</td>\n",
       "      <td id=\"T_4f4e0_row17_col15\" class=\"data row17 col15\" >0</td>\n",
       "      <td id=\"T_4f4e0_row17_col16\" class=\"data row17 col16\" >0</td>\n",
       "      <td id=\"T_4f4e0_row17_col17\" class=\"data row17 col17\" >0</td>\n",
       "      <td id=\"T_4f4e0_row17_col18\" class=\"data row17 col18\" >0</td>\n",
       "    </tr>\n",
       "    <tr>\n",
       "      <th id=\"T_4f4e0_level0_row18\" class=\"row_heading level0 row18\" >18</th>\n",
       "      <td id=\"T_4f4e0_row18_col0\" class=\"data row18 col0\" >0</td>\n",
       "      <td id=\"T_4f4e0_row18_col1\" class=\"data row18 col1\" >0</td>\n",
       "      <td id=\"T_4f4e0_row18_col2\" class=\"data row18 col2\" >42</td>\n",
       "      <td id=\"T_4f4e0_row18_col3\" class=\"data row18 col3\" >115</td>\n",
       "      <td id=\"T_4f4e0_row18_col4\" class=\"data row18 col4\" >42</td>\n",
       "      <td id=\"T_4f4e0_row18_col5\" class=\"data row18 col5\" >60</td>\n",
       "      <td id=\"T_4f4e0_row18_col6\" class=\"data row18 col6\" >115</td>\n",
       "      <td id=\"T_4f4e0_row18_col7\" class=\"data row18 col7\" >159</td>\n",
       "      <td id=\"T_4f4e0_row18_col8\" class=\"data row18 col8\" >240</td>\n",
       "      <td id=\"T_4f4e0_row18_col9\" class=\"data row18 col9\" >253</td>\n",
       "      <td id=\"T_4f4e0_row18_col10\" class=\"data row18 col10\" >253</td>\n",
       "      <td id=\"T_4f4e0_row18_col11\" class=\"data row18 col11\" >250</td>\n",
       "      <td id=\"T_4f4e0_row18_col12\" class=\"data row18 col12\" >175</td>\n",
       "      <td id=\"T_4f4e0_row18_col13\" class=\"data row18 col13\" >25</td>\n",
       "      <td id=\"T_4f4e0_row18_col14\" class=\"data row18 col14\" >0</td>\n",
       "      <td id=\"T_4f4e0_row18_col15\" class=\"data row18 col15\" >0</td>\n",
       "      <td id=\"T_4f4e0_row18_col16\" class=\"data row18 col16\" >0</td>\n",
       "      <td id=\"T_4f4e0_row18_col17\" class=\"data row18 col17\" >0</td>\n",
       "      <td id=\"T_4f4e0_row18_col18\" class=\"data row18 col18\" >0</td>\n",
       "    </tr>\n",
       "    <tr>\n",
       "      <th id=\"T_4f4e0_level0_row19\" class=\"row_heading level0 row19\" >19</th>\n",
       "      <td id=\"T_4f4e0_row19_col0\" class=\"data row19 col0\" >0</td>\n",
       "      <td id=\"T_4f4e0_row19_col1\" class=\"data row19 col1\" >0</td>\n",
       "      <td id=\"T_4f4e0_row19_col2\" class=\"data row19 col2\" >187</td>\n",
       "      <td id=\"T_4f4e0_row19_col3\" class=\"data row19 col3\" >253</td>\n",
       "      <td id=\"T_4f4e0_row19_col4\" class=\"data row19 col4\" >253</td>\n",
       "      <td id=\"T_4f4e0_row19_col5\" class=\"data row19 col5\" >253</td>\n",
       "      <td id=\"T_4f4e0_row19_col6\" class=\"data row19 col6\" >253</td>\n",
       "      <td id=\"T_4f4e0_row19_col7\" class=\"data row19 col7\" >253</td>\n",
       "      <td id=\"T_4f4e0_row19_col8\" class=\"data row19 col8\" >253</td>\n",
       "      <td id=\"T_4f4e0_row19_col9\" class=\"data row19 col9\" >253</td>\n",
       "      <td id=\"T_4f4e0_row19_col10\" class=\"data row19 col10\" >197</td>\n",
       "      <td id=\"T_4f4e0_row19_col11\" class=\"data row19 col11\" >86</td>\n",
       "      <td id=\"T_4f4e0_row19_col12\" class=\"data row19 col12\" >0</td>\n",
       "      <td id=\"T_4f4e0_row19_col13\" class=\"data row19 col13\" >0</td>\n",
       "      <td id=\"T_4f4e0_row19_col14\" class=\"data row19 col14\" >0</td>\n",
       "      <td id=\"T_4f4e0_row19_col15\" class=\"data row19 col15\" >0</td>\n",
       "      <td id=\"T_4f4e0_row19_col16\" class=\"data row19 col16\" >0</td>\n",
       "      <td id=\"T_4f4e0_row19_col17\" class=\"data row19 col17\" >0</td>\n",
       "      <td id=\"T_4f4e0_row19_col18\" class=\"data row19 col18\" >0</td>\n",
       "    </tr>\n",
       "    <tr>\n",
       "      <th id=\"T_4f4e0_level0_row20\" class=\"row_heading level0 row20\" >20</th>\n",
       "      <td id=\"T_4f4e0_row20_col0\" class=\"data row20 col0\" >0</td>\n",
       "      <td id=\"T_4f4e0_row20_col1\" class=\"data row20 col1\" >0</td>\n",
       "      <td id=\"T_4f4e0_row20_col2\" class=\"data row20 col2\" >103</td>\n",
       "      <td id=\"T_4f4e0_row20_col3\" class=\"data row20 col3\" >253</td>\n",
       "      <td id=\"T_4f4e0_row20_col4\" class=\"data row20 col4\" >253</td>\n",
       "      <td id=\"T_4f4e0_row20_col5\" class=\"data row20 col5\" >253</td>\n",
       "      <td id=\"T_4f4e0_row20_col6\" class=\"data row20 col6\" >253</td>\n",
       "      <td id=\"T_4f4e0_row20_col7\" class=\"data row20 col7\" >253</td>\n",
       "      <td id=\"T_4f4e0_row20_col8\" class=\"data row20 col8\" >232</td>\n",
       "      <td id=\"T_4f4e0_row20_col9\" class=\"data row20 col9\" >67</td>\n",
       "      <td id=\"T_4f4e0_row20_col10\" class=\"data row20 col10\" >1</td>\n",
       "      <td id=\"T_4f4e0_row20_col11\" class=\"data row20 col11\" >0</td>\n",
       "      <td id=\"T_4f4e0_row20_col12\" class=\"data row20 col12\" >0</td>\n",
       "      <td id=\"T_4f4e0_row20_col13\" class=\"data row20 col13\" >0</td>\n",
       "      <td id=\"T_4f4e0_row20_col14\" class=\"data row20 col14\" >0</td>\n",
       "      <td id=\"T_4f4e0_row20_col15\" class=\"data row20 col15\" >0</td>\n",
       "      <td id=\"T_4f4e0_row20_col16\" class=\"data row20 col16\" >0</td>\n",
       "      <td id=\"T_4f4e0_row20_col17\" class=\"data row20 col17\" >0</td>\n",
       "      <td id=\"T_4f4e0_row20_col18\" class=\"data row20 col18\" >0</td>\n",
       "    </tr>\n",
       "    <tr>\n",
       "      <th id=\"T_4f4e0_level0_row21\" class=\"row_heading level0 row21\" >21</th>\n",
       "      <td id=\"T_4f4e0_row21_col0\" class=\"data row21 col0\" >0</td>\n",
       "      <td id=\"T_4f4e0_row21_col1\" class=\"data row21 col1\" >0</td>\n",
       "      <td id=\"T_4f4e0_row21_col2\" class=\"data row21 col2\" >0</td>\n",
       "      <td id=\"T_4f4e0_row21_col3\" class=\"data row21 col3\" >0</td>\n",
       "      <td id=\"T_4f4e0_row21_col4\" class=\"data row21 col4\" >0</td>\n",
       "      <td id=\"T_4f4e0_row21_col5\" class=\"data row21 col5\" >0</td>\n",
       "      <td id=\"T_4f4e0_row21_col6\" class=\"data row21 col6\" >0</td>\n",
       "      <td id=\"T_4f4e0_row21_col7\" class=\"data row21 col7\" >0</td>\n",
       "      <td id=\"T_4f4e0_row21_col8\" class=\"data row21 col8\" >0</td>\n",
       "      <td id=\"T_4f4e0_row21_col9\" class=\"data row21 col9\" >0</td>\n",
       "      <td id=\"T_4f4e0_row21_col10\" class=\"data row21 col10\" >0</td>\n",
       "      <td id=\"T_4f4e0_row21_col11\" class=\"data row21 col11\" >0</td>\n",
       "      <td id=\"T_4f4e0_row21_col12\" class=\"data row21 col12\" >0</td>\n",
       "      <td id=\"T_4f4e0_row21_col13\" class=\"data row21 col13\" >0</td>\n",
       "      <td id=\"T_4f4e0_row21_col14\" class=\"data row21 col14\" >0</td>\n",
       "      <td id=\"T_4f4e0_row21_col15\" class=\"data row21 col15\" >0</td>\n",
       "      <td id=\"T_4f4e0_row21_col16\" class=\"data row21 col16\" >0</td>\n",
       "      <td id=\"T_4f4e0_row21_col17\" class=\"data row21 col17\" >0</td>\n",
       "      <td id=\"T_4f4e0_row21_col18\" class=\"data row21 col18\" >0</td>\n",
       "    </tr>\n",
       "  </tbody>\n",
       "</table>\n"
      ],
      "text/plain": [
       "<pandas.io.formats.style.Styler at 0x7f4b02dd5f70>"
      ]
     },
     "execution_count": 11,
     "metadata": {},
     "output_type": "execute_result"
    }
   ],
   "source": [
    "im3_t = tensor(im3)\n",
    "df = pd.DataFrame(im3_t[4:26,4:23])\n",
    "df.style.set_properties(**{'font-size':'6pt'}).background_gradient('Greys')\n",
    "                           "
   ]
  },
  {
   "cell_type": "code",
   "execution_count": 12,
   "id": "28b515dc-67fe-4d00-95fc-1d3b877af442",
   "metadata": {},
   "outputs": [
    {
     "data": {
      "text/plain": [
       "tensor(36.3074, dtype=torch.float64)"
      ]
     },
     "execution_count": 12,
     "metadata": {},
     "output_type": "execute_result"
    }
   ],
   "source": [
    "#testing out the mean of a tensor\n",
    "im3_t.double().mean()"
   ]
  },
  {
   "cell_type": "code",
   "execution_count": 13,
   "id": "fc90b2f7-d51a-48ec-a2fe-70a41e49b72e",
   "metadata": {},
   "outputs": [
    {
     "data": {
      "text/plain": [
       "(6131, 6265)"
      ]
     },
     "execution_count": 13,
     "metadata": {},
     "output_type": "execute_result"
    }
   ],
   "source": [
    "seven_tensors = [tensor(Image.open(o)) for o in sevens]\n",
    "three_tensors = [tensor(Image.open(o)) for o in threes]\n",
    "len(three_tensors),len(seven_tensors)"
   ]
  },
  {
   "cell_type": "code",
   "execution_count": 14,
   "id": "c9ae2bc1-e91c-40d2-be9c-65e885ea661e",
   "metadata": {},
   "outputs": [
    {
     "data": {
      "image/png": "[encoded data removed]",
      "text/plain": [
       "<Figure size 72x72 with 1 Axes>"
      ]
     },
     "metadata": {
      "needs_background": "light"
     },
     "output_type": "display_data"
    }
   ],
   "source": [
    "show_image(three_tensors[1]);"
   ]
  },
  {
   "cell_type": "code",
   "execution_count": 15,
   "id": "b23f4da5-65c2-4819-88f9-b1feaeeece2e",
   "metadata": {},
   "outputs": [
    {
     "data": {
      "text/plain": [
       "torch.Size([6131, 28, 28])"
      ]
     },
     "execution_count": 15,
     "metadata": {},
     "output_type": "execute_result"
    }
   ],
   "source": [
    "stacked_sevens = torch.stack(seven_tensors).float()/255\n",
    "stacked_threes = torch.stack(three_tensors).float()/255\n",
    "stacked_threes.shape"
   ]
  },
  {
   "cell_type": "code",
   "execution_count": 16,
   "id": "6ed26cff-6f65-4829-8166-dc0fde9a69ec",
   "metadata": {},
   "outputs": [
    {
     "data": {
      "image/png": "[encoded data removed]",
      "text/plain": [
       "<Figure size 72x72 with 1 Axes>"
      ]
     },
     "metadata": {
      "needs_background": "light"
     },
     "output_type": "display_data"
    }
   ],
   "source": [
    "mean3 = stacked_threes.mean(0)\n",
    "show_image(mean3);"
   ]
  },
  {
   "cell_type": "code",
   "execution_count": 17,
   "id": "cb6ed137-5c9d-46b0-96d9-9317eb705303",
   "metadata": {},
   "outputs": [
    {
     "data": {
      "image/png": "[encoded data removed]",
      "text/plain": [
       "<Figure size 72x72 with 1 Axes>"
      ]
     },
     "metadata": {
      "needs_background": "light"
     },
     "output_type": "display_data"
    }
   ],
   "source": [
    "mean7 = stacked_sevens.mean(0)\n",
    "show_image(mean7);"
   ]
  },
  {
   "cell_type": "code",
   "execution_count": 18,
   "id": "a82e2454-1b95-4ffd-bf56-b582e3acb5cf",
   "metadata": {},
   "outputs": [
    {
     "data": {
      "image/png": "[encoded data removed]",
      "text/plain": [
       "<Figure size 72x72 with 1 Axes>"
      ]
     },
     "metadata": {
      "needs_background": "light"
     },
     "output_type": "display_data"
    }
   ],
   "source": [
    "a_3 = stacked_threes[1]\n",
    "show_image(a_3);"
   ]
  },
  {
   "cell_type": "code",
   "execution_count": 19,
   "id": "9098cd34-6562-4e90-b325-33dfe523346e",
   "metadata": {},
   "outputs": [
    {
     "data": {
      "text/plain": [
       "(tensor(0.1114), tensor(0.2021))"
      ]
     },
     "execution_count": 19,
     "metadata": {},
     "output_type": "execute_result"
    }
   ],
   "source": [
    "dist_3_abs = (a_3 - mean3).abs().mean()\n",
    "dist_3_sqr = ((a_3 - mean3)**2).mean().sqrt()\n",
    "dist_3_abs, dist_3_sqr"
   ]
  },
  {
   "cell_type": "code",
   "execution_count": 20,
   "id": "6569729b-e43f-445c-8da0-a35efe980457",
   "metadata": {},
   "outputs": [
    {
     "data": {
      "text/plain": [
       "(tensor(0.1586), tensor(0.3021))"
      ]
     },
     "execution_count": 20,
     "metadata": {},
     "output_type": "execute_result"
    }
   ],
   "source": [
    "dist_7_abs = (a_3 - mean7).abs().mean()\n",
    "dist_7_sqr = ((a_3 - mean7)**2).mean().sqrt()\n",
    "dist_7_abs,dist_7_sqr"
   ]
  },
  {
   "cell_type": "code",
   "execution_count": 21,
   "id": "7322aa63-77bc-4adc-9ad7-31371ad28ba2",
   "metadata": {},
   "outputs": [
    {
     "data": {
      "text/plain": [
       "(tensor(0.1586), tensor(0.3021))"
      ]
     },
     "execution_count": 21,
     "metadata": {},
     "output_type": "execute_result"
    }
   ],
   "source": [
    "#F is the same as from pytorch import torch.mn.functional as F\n",
    "#This is already done as F in fastai\n",
    "F.l1_loss(a_3.float(),mean7), F.mse_loss(a_3, mean7).sqrt()"
   ]
  },
  {
   "cell_type": "code",
   "execution_count": 22,
   "id": "f38abbad-4bc3-4d41-82c8-101df44733b1",
   "metadata": {},
   "outputs": [],
   "source": [
    "#quick summary of what we can do with a tensor:\n",
    "#all basic math operations\n",
    "#we can also pick out specific rows and columns. e.g [2,3:4] -> row 3, col 4\n",
    "#we can also find the type and change the type of a tensor"
   ]
  },
  {
   "cell_type": "code",
   "execution_count": 23,
   "id": "e2a6eba5-4129-4d2e-88c6-baadfbad0ec9",
   "metadata": {},
   "outputs": [],
   "source": [
    "valid_3_tens = torch.stack([tensor(Image.open(o))\n",
    "                            for o in (path/'valid'/'3').ls()])\n",
    "valid_3_tens = valid_3_tens.float()/255\n",
    "\n",
    "valid_7_tens = torch.stack([tensor(Image.open(o))\n",
    "                            for o in (path/'valid'/'7').ls()])\n",
    "valid_7_tens = valid_7_tens.float()/255"
   ]
  },
  {
   "cell_type": "code",
   "execution_count": 24,
   "id": "34f04ef7-6076-439b-a060-6ef85dfcc51b",
   "metadata": {},
   "outputs": [
    {
     "data": {
      "text/plain": [
       "torch.Size([1010, 28, 28])"
      ]
     },
     "execution_count": 24,
     "metadata": {},
     "output_type": "execute_result"
    }
   ],
   "source": [
    "valid_3_tens.shape"
   ]
  },
  {
   "cell_type": "code",
   "execution_count": 25,
   "id": "7803f376-4557-49ca-9be6-9e9da5f38024",
   "metadata": {},
   "outputs": [
    {
     "data": {
      "text/plain": [
       "tensor(0.1114)"
      ]
     },
     "execution_count": 25,
     "metadata": {},
     "output_type": "execute_result"
    }
   ],
   "source": [
    "def mnist_distance(a,b): return (a-b).abs().mean((-1,-2))\n",
    "mnist_distance(a_3, mean3)"
   ]
  },
  {
   "cell_type": "code",
   "execution_count": 26,
   "id": "f0bc9b1c-3123-4c9e-a5c4-766be08ace4e",
   "metadata": {},
   "outputs": [
    {
     "data": {
      "text/plain": [
       "(tensor([0.1520, 0.1126, 0.1599,  ..., 0.1176, 0.1272, 0.1109]),\n",
       " torch.Size([1010]))"
      ]
     },
     "execution_count": 26,
     "metadata": {},
     "output_type": "execute_result"
    }
   ],
   "source": [
    "#below is an example of broadcasting as valid_3_tens has a rank3 vs mean3 a rank2\n",
    "valid_3_dist = mnist_distance(valid_3_tens, mean3)\n",
    "valid_3_dist, valid_3_dist.shape"
   ]
  },
  {
   "cell_type": "code",
   "execution_count": 27,
   "id": "4290f9bf-5b77-4d58-8c14-351c97631167",
   "metadata": {},
   "outputs": [
    {
     "data": {
      "text/plain": [
       "(torch.Size([1010, 28, 28]), torch.Size([28, 28]))"
      ]
     },
     "execution_count": 27,
     "metadata": {},
     "output_type": "execute_result"
    }
   ],
   "source": [
    "valid_3_tens.shape, mean3.shape"
   ]
  },
  {
   "cell_type": "code",
   "execution_count": 28,
   "id": "1d483cec-a29a-4d34-97ba-f03c70073f71",
   "metadata": {},
   "outputs": [
    {
     "data": {
      "text/plain": [
       "torch.Size([1010, 28, 28])"
      ]
     },
     "execution_count": 28,
     "metadata": {},
     "output_type": "execute_result"
    }
   ],
   "source": [
    "(valid_3_tens - mean3).shape"
   ]
  },
  {
   "cell_type": "code",
   "execution_count": 29,
   "id": "d80a7d15-1c4c-4d90-b80a-4a389d1db75b",
   "metadata": {},
   "outputs": [],
   "source": [
    "def is_3(x): return mnist_distance(x, mean3) < mnist_distance(x, mean7)"
   ]
  },
  {
   "cell_type": "code",
   "execution_count": 30,
   "id": "08ad5394-3c0b-44e7-9c88-233e01aa2ffc",
   "metadata": {},
   "outputs": [
    {
     "data": {
      "text/plain": [
       "(tensor(True), tensor(1.))"
      ]
     },
     "execution_count": 30,
     "metadata": {},
     "output_type": "execute_result"
    }
   ],
   "source": [
    "is_3(a_3), is_3(a_3).float()"
   ]
  },
  {
   "cell_type": "code",
   "execution_count": 31,
   "id": "0d7a3d5a-9e62-48c9-9162-92c68e08d379",
   "metadata": {},
   "outputs": [
    {
     "data": {
      "text/plain": [
       "(tensor(0.9168), tensor(0.9854))"
      ]
     },
     "execution_count": 31,
     "metadata": {},
     "output_type": "execute_result"
    }
   ],
   "source": [
    "accuracy_3s = is_3(valid_3_tens).float().mean()\n",
    "accuracy_7s = 1 - is_3(valid_7_tens).float().mean()\n",
    "               \n",
    "accuracy_3s, accuracy_7s               "
   ]
  },
  {
   "cell_type": "markdown",
   "id": "01aa5f1d-18d4-41bd-ad36-3c627d098bb4",
   "metadata": {},
   "source": [
    "# Stochastic Gradient"
   ]
  },
  {
   "cell_type": "code",
   "execution_count": 32,
   "id": "277f39db-7c46-419e-b933-05f20b11a511",
   "metadata": {},
   "outputs": [],
   "source": [
    "def f(x): return x**2"
   ]
  },
  {
   "cell_type": "code",
   "execution_count": 33,
   "id": "517d09f6-6741-4d65-b5df-15c53c0b812e",
   "metadata": {},
   "outputs": [],
   "source": [
    "xt = tensor(3.).requires_grad_()"
   ]
  },
  {
   "cell_type": "code",
   "execution_count": 34,
   "id": "6ee1b575-0dc8-4c07-be90-0b2d4b7fa612",
   "metadata": {},
   "outputs": [
    {
     "data": {
      "text/plain": [
       "tensor(3., requires_grad=True)"
      ]
     },
     "execution_count": 34,
     "metadata": {},
     "output_type": "execute_result"
    }
   ],
   "source": [
    "xt"
   ]
  },
  {
   "cell_type": "code",
   "execution_count": 35,
   "id": "d5a27dc7-9f5b-4e12-8b62-1ff1b1a2acf2",
   "metadata": {},
   "outputs": [
    {
     "data": {
      "text/plain": [
       "tensor(9., grad_fn=<PowBackward0>)"
      ]
     },
     "execution_count": 35,
     "metadata": {},
     "output_type": "execute_result"
    }
   ],
   "source": [
    "yt = f(xt)\n",
    "yt"
   ]
  },
  {
   "cell_type": "code",
   "execution_count": 36,
   "id": "0eff4a1c-e6a9-4a81-87da-b855ea017a07",
   "metadata": {},
   "outputs": [],
   "source": [
    "yt.backward()"
   ]
  },
  {
   "cell_type": "code",
   "execution_count": 37,
   "id": "278e1844-bd5a-4912-9268-9b6aed23d706",
   "metadata": {},
   "outputs": [
    {
     "data": {
      "text/plain": [
       "tensor(6.)"
      ]
     },
     "execution_count": 37,
     "metadata": {},
     "output_type": "execute_result"
    }
   ],
   "source": [
    "xt.grad"
   ]
  },
  {
   "cell_type": "code",
   "execution_count": 38,
   "id": "9918107f-e661-48c2-8f71-17130b5cf2b8",
   "metadata": {},
   "outputs": [
    {
     "data": {
      "text/plain": [
       "tensor([ 3.,  4., 10.], requires_grad=True)"
      ]
     },
     "execution_count": 38,
     "metadata": {},
     "output_type": "execute_result"
    }
   ],
   "source": [
    "xt = tensor([3.,4.,10.]).requires_grad_()\n",
    "xt"
   ]
  },
  {
   "cell_type": "code",
   "execution_count": 39,
   "id": "1d92fd1c-8e55-45cf-a35d-eadb507a7070",
   "metadata": {},
   "outputs": [
    {
     "data": {
      "text/plain": [
       "tensor(125., grad_fn=<SumBackward0>)"
      ]
     },
     "execution_count": 39,
     "metadata": {},
     "output_type": "execute_result"
    }
   ],
   "source": [
    "def f(x): return (x**2).sum()\n",
    "\n",
    "yt = f(xt)\n",
    "yt"
   ]
  },
  {
   "cell_type": "code",
   "execution_count": 40,
   "id": "cb6e2abe-0dd8-4ce2-8503-88ec65511b07",
   "metadata": {},
   "outputs": [
    {
     "data": {
      "text/plain": [
       "tensor([ 6.,  8., 20.])"
      ]
     },
     "execution_count": 40,
     "metadata": {},
     "output_type": "execute_result"
    }
   ],
   "source": [
    "yt.backward()\n",
    "xt.grad"
   ]
  },
  {
   "cell_type": "markdown",
   "id": "6edbca66-ba7c-41aa-bcd2-3d6cf5e2e21c",
   "metadata": {},
   "source": [
    "# End to End SGD Example"
   ]
  },
  {
   "cell_type": "code",
   "execution_count": 41,
   "id": "b3a3a8ba-a5e6-47b5-a2e2-cffc090c7ef3",
   "metadata": {},
   "outputs": [
    {
     "data": {
      "text/plain": [
       "tensor([ 0.,  1.,  2.,  3.,  4.,  5.,  6.,  7.,  8.,  9., 10., 11., 12., 13., 14., 15., 16., 17., 18., 19.])"
      ]
     },
     "execution_count": 41,
     "metadata": {},
     "output_type": "execute_result"
    }
   ],
   "source": [
    "time = torch.arange(0,20).float(); time"
   ]
  },
  {
   "cell_type": "code",
   "execution_count": 42,
   "id": "4bc780f7-456c-4ffb-a0a5-cda0e3ec743a",
   "metadata": {},
   "outputs": [
    {
     "data": {
      "image/png": "[encoded data removed]",
      "text/plain": [
       "<Figure size 432x288 with 1 Axes>"
      ]
     },
     "metadata": {
      "needs_background": "light"
     },
     "output_type": "display_data"
    }
   ],
   "source": [
    "speed = torch.rand(20)*3 + 0.75*(time-9.5)**2 + 1\n",
    "plt.scatter(time,speed);"
   ]
  },
  {
   "cell_type": "code",
   "execution_count": 43,
   "id": "d7eccd23-2624-47ed-b35e-a096616c441b",
   "metadata": {},
   "outputs": [],
   "source": [
    "params = torch.randn(3).requires_grad_()\n",
    "orig_params = params.clone()"
   ]
  },
  {
   "cell_type": "code",
   "execution_count": 44,
   "id": "337304af-0028-4e61-9187-5ade234f2178",
   "metadata": {},
   "outputs": [],
   "source": [
    "def f(t, params):\n",
    "    a,b,c = params\n",
    "    return a*(t**2) + (b*t) + c\n",
    "\n",
    "def mse(preds, targets): return ((preds-targets)**2).mean()\n"
   ]
  },
  {
   "cell_type": "code",
   "execution_count": 45,
   "id": "f4afe2f7-3675-4fd4-a9fd-ed9362ba5e52",
   "metadata": {},
   "outputs": [
    {
     "data": {
      "image/png": "[encoded data removed]",
      "text/plain": [
       "<Figure size 432x288 with 1 Axes>"
      ]
     },
     "metadata": {
      "needs_background": "light"
     },
     "output_type": "display_data"
    }
   ],
   "source": [
    "preds = f(time, params)\n",
    "\n",
    "def show_preds(preds, ax=None):\n",
    "    if ax is None: ax=plt.subplots()[1]\n",
    "    ax.scatter(time, speed)\n",
    "    ax.scatter(time, to_np(preds), color='red')\n",
    "    ax.set_ylim(-300,100)\n",
    "    \n",
    "show_preds(preds)\n"
   ]
  },
  {
   "cell_type": "code",
   "execution_count": 46,
   "id": "d2a46a1c-623a-4860-ae4c-867fe17ac168",
   "metadata": {},
   "outputs": [
    {
     "data": {
      "text/plain": [
       "tensor(6271.1558, grad_fn=<MeanBackward0>)"
      ]
     },
     "execution_count": 46,
     "metadata": {},
     "output_type": "execute_result"
    }
   ],
   "source": [
    "loss = mse(preds, speed)\n",
    "loss"
   ]
  },
  {
   "cell_type": "code",
   "execution_count": 47,
   "id": "d3d7d6ec-2d8e-427a-918b-8c6dd548723a",
   "metadata": {},
   "outputs": [
    {
     "data": {
      "text/plain": [
       "tensor([25124.4727,  1624.3723,    94.0216])"
      ]
     },
     "execution_count": 47,
     "metadata": {},
     "output_type": "execute_result"
    }
   ],
   "source": [
    "loss.backward()\n",
    "params.grad"
   ]
  },
  {
   "cell_type": "code",
   "execution_count": 48,
   "id": "f4cb4873-7e1f-418d-a558-b6caba63d5de",
   "metadata": {},
   "outputs": [
    {
     "data": {
      "text/plain": [
       "tensor([0.2512, 0.0162, 0.0009])"
      ]
     },
     "execution_count": 48,
     "metadata": {},
     "output_type": "execute_result"
    }
   ],
   "source": [
    "params.grad * 1e-5"
   ]
  },
  {
   "cell_type": "code",
   "execution_count": 49,
   "id": "c5989683-ad63-44a2-85af-07cb65f4b4ab",
   "metadata": {},
   "outputs": [
    {
     "data": {
      "text/plain": [
       "tensor([0.5349, 0.8094, 1.1103], requires_grad=True)"
      ]
     },
     "execution_count": 49,
     "metadata": {},
     "output_type": "execute_result"
    }
   ],
   "source": [
    "params"
   ]
  },
  {
   "cell_type": "code",
   "execution_count": 50,
   "id": "1b501150-a461-4645-827f-3d5f4666f54b",
   "metadata": {},
   "outputs": [
    {
     "data": {
      "text/plain": [
       "tensor([25124.4727,  1624.3723,    94.0216])"
      ]
     },
     "execution_count": 50,
     "metadata": {},
     "output_type": "execute_result"
    }
   ],
   "source": [
    " params.grad.data"
   ]
  },
  {
   "cell_type": "code",
   "execution_count": 51,
   "id": "2d74fdba-f0d7-477d-9b88-964f1088536e",
   "metadata": {},
   "outputs": [],
   "source": [
    "lr = 1e-5\n",
    "params.data -= lr * params.grad.data\n",
    "params.grad = None"
   ]
  },
  {
   "cell_type": "code",
   "execution_count": 52,
   "id": "4e5b6513-d4cf-4701-ae31-dfe2200dca01",
   "metadata": {},
   "outputs": [
    {
     "data": {
      "text/plain": [
       "tensor(1722.9987, grad_fn=<MeanBackward0>)"
      ]
     },
     "execution_count": 52,
     "metadata": {},
     "output_type": "execute_result"
    }
   ],
   "source": [
    "preds = f(time,params)\n",
    "mse(preds, speed)"
   ]
  },
  {
   "cell_type": "code",
   "execution_count": 53,
   "id": "0ff1e98d-e776-41a9-b310-7d49267e3541",
   "metadata": {},
   "outputs": [
    {
     "data": {
      "image/png": "[encoded data removed]",
      "text/plain": [
       "<Figure size 432x288 with 1 Axes>"
      ]
     },
     "metadata": {
      "needs_background": "light"
     },
     "output_type": "display_data"
    }
   ],
   "source": [
    "show_preds(preds)"
   ]
  },
  {
   "cell_type": "code",
   "execution_count": 54,
   "id": "80272ff6-1f8c-45d9-97dc-309190068035",
   "metadata": {},
   "outputs": [],
   "source": [
    "def apply_step(params, prn=True):\n",
    "    preds = f(time, params)\n",
    "    loss = mse(preds, speed)\n",
    "    loss.backward()\n",
    "    params.data -= lr * params.grad.data\n",
    "    params.grad = None\n",
    "    if prn: print(loss.item())\n",
    "    print(params)\n",
    "    return preds"
   ]
  },
  {
   "cell_type": "code",
   "execution_count": 55,
   "id": "bdcd534c-8a02-409f-840d-8c014734a801",
   "metadata": {},
   "outputs": [
    {
     "name": "stdout",
     "output_type": "stream",
     "text": [
      "1722.9986572265625\n",
      "tensor([0.1744, 0.7860, 1.1090], requires_grad=True)\n",
      "862.3447265625\n",
      "tensor([0.1268, 0.7828, 1.1090], requires_grad=True)\n",
      "699.4794311523438\n",
      "tensor([0.1062, 0.7814, 1.1091], requires_grad=True)\n",
      "668.6570434570312\n",
      "tensor([0.0972, 0.7807, 1.1092], requires_grad=True)\n",
      "662.8212890625\n",
      "tensor([0.0933, 0.7803, 1.1093], requires_grad=True)\n",
      "661.7135620117188\n",
      "tensor([0.0916, 0.7801, 1.1095], requires_grad=True)\n",
      "661.5006103515625\n",
      "tensor([0.0908, 0.7799, 1.1096], requires_grad=True)\n",
      "661.4569091796875\n",
      "tensor([0.0905, 0.7798, 1.1098], requires_grad=True)\n",
      "661.4454345703125\n",
      "tensor([0.0904, 0.7796, 1.1100], requires_grad=True)\n",
      "661.4398803710938\n",
      "tensor([0.0903, 0.7795, 1.1101], requires_grad=True)\n"
     ]
    }
   ],
   "source": [
    "for i in range(10): apply_step(params)"
   ]
  },
  {
   "cell_type": "code",
   "execution_count": 56,
   "id": "2b24dadd-0a71-482c-a136-6e7d9012015d",
   "metadata": {},
   "outputs": [],
   "source": [
    "params = orig_params.detach().requires_grad_()"
   ]
  },
  {
   "cell_type": "code",
   "execution_count": 57,
   "id": "0c00676f-c80f-41ff-8641-f074c5cb99f9",
   "metadata": {},
   "outputs": [
    {
     "name": "stdout",
     "output_type": "stream",
     "text": [
      "tensor([0.2837, 0.7931, 1.1094], requires_grad=True)\n",
      "tensor([0.1744, 0.7860, 1.1090], requires_grad=True)\n",
      "tensor([0.1268, 0.7828, 1.1090], requires_grad=True)\n",
      "tensor([0.1062, 0.7814, 1.1091], requires_grad=True)\n"
     ]
    },
    {
     "data": {
      "image/png": "[encoded data removed]",
      "text/plain": [
       "<Figure size 864x216 with 4 Axes>"
      ]
     },
     "metadata": {
      "needs_background": "light"
     },
     "output_type": "display_data"
    }
   ],
   "source": [
    "_, axs = plt.subplots(1,4,figsize=(12,3))\n",
    "for ax in axs: show_preds(apply_step(params, False), ax)\n",
    "plt.tight_layout()"
   ]
  },
  {
   "cell_type": "code",
   "execution_count": 58,
   "id": "809b2eef-ce63-43a8-9abf-1d33b208e66e",
   "metadata": {},
   "outputs": [
    {
     "data": {
      "text/plain": [
       "tensor([0.1062, 0.7814, 1.1091], grad_fn=<CloneBackward0>)"
      ]
     },
     "execution_count": 58,
     "metadata": {},
     "output_type": "execute_result"
    }
   ],
   "source": [
    "orig_params"
   ]
  },
  {
   "cell_type": "markdown",
   "id": "dbeeb0e4-196c-467f-b59f-b0500bf42c78",
   "metadata": {},
   "source": [
    "# Back to the MNIST dataset"
   ]
  },
  {
   "cell_type": "code",
   "execution_count": 59,
   "id": "f5e5a45b-e1cd-4614-9de2-56904a1c929a",
   "metadata": {},
   "outputs": [],
   "source": [
    "train_x = torch.cat([stacked_threes, stacked_sevens]).view(-1, 28*28)"
   ]
  },
  {
   "cell_type": "code",
   "execution_count": 60,
   "id": "daf8a7de-b6f8-4966-8747-d68aa871ae83",
   "metadata": {},
   "outputs": [
    {
     "data": {
      "text/plain": [
       "torch.Size([12396, 784])"
      ]
     },
     "execution_count": 60,
     "metadata": {},
     "output_type": "execute_result"
    }
   ],
   "source": [
    "train_x.shape"
   ]
  },
  {
   "cell_type": "code",
   "execution_count": 61,
   "id": "888ed760-52c2-4859-9989-b22badff2449",
   "metadata": {},
   "outputs": [],
   "source": [
    "train_y = tensor([1]*len(threes) + [0]*len(sevens)).unsqueeze(1)"
   ]
  },
  {
   "cell_type": "code",
   "execution_count": 62,
   "id": "973d0a9c-072f-4014-ab80-587a5a78eaef",
   "metadata": {},
   "outputs": [
    {
     "data": {
      "text/plain": [
       "torch.Size([12396, 1])"
      ]
     },
     "execution_count": 62,
     "metadata": {},
     "output_type": "execute_result"
    }
   ],
   "source": [
    "train_y.shape"
   ]
  },
  {
   "cell_type": "code",
   "execution_count": 63,
   "id": "6f9ff3c1-2e54-451f-b587-09c77f54eb09",
   "metadata": {},
   "outputs": [
    {
     "ename": "SyntaxError",
     "evalue": "unexpected EOF while parsing (3816557866.py, line 1)",
     "output_type": "error",
     "traceback": [
      "\u001b[0;36m  Input \u001b[0;32mIn [63]\u001b[0;36m\u001b[0m\n\u001b[0;31m    dset = list(zip(train\u001b[0m\n\u001b[0m                         ^\u001b[0m\n\u001b[0;31mSyntaxError\u001b[0m\u001b[0;31m:\u001b[0m unexpected EOF while parsing\n"
     ]
    }
   ],
   "source": [
    "dset = list(zip(train"
   ]
  }
 ],
 "metadata": {
  "kernelspec": {
   "display_name": "Python 3 (ipykernel)",
   "language": "python",
   "name": "python3"
  },
  "language_info": {
   "codemirror_mode": {
    "name": "ipython",
    "version": 3
   },
   "file_extension": ".py",
   "mimetype": "text/x-python",
   "name": "python",
   "nbconvert_exporter": "python",
   "pygments_lexer": "ipython3",
   "version": "3.9.13"
  }
 },
 "nbformat": 4,
 "nbformat_minor": 5
}
