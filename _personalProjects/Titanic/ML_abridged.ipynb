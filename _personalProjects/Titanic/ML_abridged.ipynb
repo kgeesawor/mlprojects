{
 "cells": [
  {
   "cell_type": "markdown",
   "id": "e7343acf-71aa-4d13-99a0-162af4c7ebf7",
   "metadata": {},
   "source": [
    "# ML Model"
   ]
  },
  {
   "cell_type": "code",
   "execution_count": 1,
   "id": "e4a86e05-672c-432e-9552-66f02b6fb9b7",
   "metadata": {},
   "outputs": [],
   "source": [
    "import torch, numpy as np, pandas as pd\n",
    "from torch import tensor\n",
    "from fastai.data.transforms import RandomSplitter\n",
    "import zipfile\n",
    "\n",
    "zipName = 'titanic.zip'\n",
    "\n",
    "zf = zipfile.ZipFile(zipName) \n",
    "df_gs = pd.read_csv(zf.open('gender_submission.csv'))\n",
    "df_train = pd.read_csv(zf.open('train.csv'))\n",
    "df_test = pd.read_csv(zf.open('test.csv'))"
   ]
  },
  {
   "cell_type": "code",
   "execution_count": 2,
   "id": "a1dc0bfb-2fa0-4ee8-ad85-1f5ecd8fc141",
   "metadata": {},
   "outputs": [],
   "source": [
    "modes = df_train.mode().iloc[0]\n",
    "df_train.fillna(modes, inplace=True)"
   ]
  },
  {
   "cell_type": "code",
   "execution_count": 3,
   "id": "b4005267-d235-4420-9643-7b7d8010fb0a",
   "metadata": {},
   "outputs": [],
   "source": [
    "df_train['logfare'] = np.log(df_train['Fare']+1)"
   ]
  },
  {
   "cell_type": "code",
   "execution_count": 4,
   "id": "2a85aca7-efb3-4197-8cc0-89e2e1ec80cf",
   "metadata": {},
   "outputs": [],
   "source": [
    "df_train = pd.get_dummies(df_train, columns=['Sex','Pclass','Embarked'])\n",
    "\n",
    "added_cols = [ 'Sex_female', 'Sex_male',\n",
    "               'Pclass_1', 'Pclass_2', 'Pclass_3', \n",
    "               'Embarked_C', 'Embarked_Q', 'Embarked_S']"
   ]
  },
  {
   "cell_type": "code",
   "execution_count": 5,
   "id": "3fe1e54c-e5cf-4e74-98dc-e9be54d206de",
   "metadata": {},
   "outputs": [],
   "source": [
    "indep_cols = ['Age','SibSp','Parch','logfare'] + added_cols\n",
    "\n",
    "t_dep = tensor(df_train.Survived)\n",
    "t_indep = tensor(df_train[indep_cols].values, dtype=torch.float)\n",
    "vals, indices = t_indep.max(dim=0)\n",
    "t_indep = t_indep / vals"
   ]
  },
  {
   "cell_type": "code",
   "execution_count": 6,
   "id": "89c5217b-593e-49f4-852a-0fadf55e77b5",
   "metadata": {},
   "outputs": [
    {
     "data": {
      "text/plain": [
       "(713, 178)"
      ]
     },
     "execution_count": 6,
     "metadata": {},
     "output_type": "execute_result"
    }
   ],
   "source": [
    "trn_split, val_split = RandomSplitter(seed=42)(df_train)\n",
    "trn_indep, val_indep = t_indep[trn_split], t_indep[val_split]\n",
    "trn_dep, val_dep = t_dep[trn_split], t_dep[val_split]\n",
    "len(trn_indep),len(val_indep)"
   ]
  },
  {
   "cell_type": "code",
   "execution_count": 7,
   "id": "508ba223-fa5a-402f-a7b7-badcff2c05ab",
   "metadata": {},
   "outputs": [],
   "source": [
    "# Instructions for Linear Model Machine Learning\n",
    "\n",
    "'Gather: \\\n",
    "- dependent variables, independent variables \\\n",
    "- use pd.get_dummies(df, columns=[]) to create dummy columns \\\n",
    "- use tensor(df_train[indep_cols].values, dtype=torch.float) to get tensor \\\n",
    "- import from fastai.data.transforms import RandomSplitter \\\n",
    "-- use trn_split, val_split = RandomSplitter()(df) to get splits \\\n",
    "-- split test, train by using t_dep/indep[trn/val_split] \\\n",
    "-- index column dims with special value None trn/val_dep = trn/val_dep[:, None]'\n",
    "\n",
    "def init_coeffs():\n",
    "    'calculates random set of coefficients based on shape of \\\n",
    "    independent variables tensor'\n",
    "    return (torch.rand(n_coeff)-0.5).requires_grad_()\n",
    "\n",
    "def calc_preds(coeffs, indeps): \n",
    "    'calculates predictions based on coefficients * independent variables'\n",
    "    #return (indeps*coeffs).sum(axis=1)\n",
    "    #return indeps@coeffs\n",
    "    return torch.sigmoid(indeps@coeffs)\n",
    "\n",
    "def calc_loss(coeffs, indeps, deps): \n",
    "    'calculates the mean absolute difference loss'\n",
    "    return torch.abs(calc_preds(coeffs, indeps)-deps).mean()\n",
    "\n",
    "def update_coeffs(coeffs, lr):\n",
    "    'Multiples the coefficients by the learning rate and resets \\\n",
    "     the gradients to zero'\n",
    "    coeffs.sub_(coeffs.grad * lr)\n",
    "    coeffs.grad.zero_()\n",
    "    \n",
    "def one_epoch(coeffs, lr):\n",
    "    'Calculates the loss and indicates that a gradient is needed'\n",
    "    loss = calc_loss(coeffs, trn_indep, trn_dep)\n",
    "    loss.backward()\n",
    "    #Disable gradient calculation\n",
    "    with torch.no_grad(): update_coeffs(coeffs, lr)\n",
    "    print(f\"{loss:.3f}\", end=\";\")\n",
    "    \n",
    "def train_model(epochs=30, lr=0.01):\n",
    "    coeffs = init_coeffs()\n",
    "    for i in range(epochs): one_epoch(coeffs, lr=lr)\n",
    "    return coeffs\n",
    "\n",
    "def show_coeffs(): return dict(zip(indep_cols, coeffs.requires_grad_(False)))\n",
    "\n",
    "def acc(coeffs): return (val_dep.bool()==(calc_preds(coeffs, val_indep)>0.5)).float().mean()"
   ]
  },
  {
   "cell_type": "code",
   "execution_count": 8,
   "id": "5c7f109f-10d8-4e4d-a80c-fe62cf13bc09",
   "metadata": {},
   "outputs": [
    {
     "name": "stdout",
     "output_type": "stream",
     "text": [
      "0.468;0.324;0.301;0.209;0.201;0.199;0.198;0.197;0.196;0.196;0.196;0.195;0.195;0.195;0.195;0.195;0.195;0.195;0.194;0.194;0.194;0.194;0.194;0.194;0.194;0.194;0.194;0.194;0.194;0.194;"
     ]
    }
   ],
   "source": [
    "torch.manual_seed(442)\n",
    "\n",
    "n_coeff = t_indep.shape[1]\n",
    "coeffs = init_coeffs()\n",
    "\n",
    "model = train_model(lr=100);"
   ]
  },
  {
   "cell_type": "code",
   "execution_count": 10,
   "id": "81775523-f92d-4c62-b801-dedbd8f789cc",
   "metadata": {},
   "outputs": [
    {
     "data": {
      "text/plain": [
       "tensor(0.8258)"
      ]
     },
     "execution_count": 10,
     "metadata": {},
     "output_type": "execute_result"
    }
   ],
   "source": [
    "acc(model)"
   ]
  },
  {
   "cell_type": "code",
   "execution_count": 11,
   "id": "d600a98d-b64c-4a4c-a684-c4305218a528",
   "metadata": {},
   "outputs": [
    {
     "data": {
      "text/plain": [
       "{'Age': tensor(-0.4629),\n",
       " 'SibSp': tensor(0.1386),\n",
       " 'Parch': tensor(0.2409),\n",
       " 'logfare': tensor(-0.2262),\n",
       " 'Sex_female': tensor(-0.2632),\n",
       " 'Sex_male': tensor(-0.3147),\n",
       " 'Pclass_1': tensor(0.4876),\n",
       " 'Pclass_2': tensor(0.3136),\n",
       " 'Pclass_3': tensor(0.2799),\n",
       " 'Embarked_C': tensor(-0.4392),\n",
       " 'Embarked_Q': tensor(0.2103),\n",
       " 'Embarked_S': tensor(0.3625)}"
      ]
     },
     "execution_count": 11,
     "metadata": {},
     "output_type": "execute_result"
    }
   ],
   "source": [
    "show_coeffs()"
   ]
  },
  {
   "cell_type": "code",
   "execution_count": 19,
   "id": "5f71abf1-8dbd-4ab9-ad08-6d580365f2da",
   "metadata": {},
   "outputs": [
    {
     "data": {
      "text/plain": [
       "tensor(0.8258)"
      ]
     },
     "execution_count": 19,
     "metadata": {},
     "output_type": "execute_result"
    }
   ],
   "source": [
    "acc(model)"
   ]
  },
  {
   "cell_type": "code",
   "execution_count": 13,
   "id": "2c6543f7-c54b-48f5-9b71-64bbf012f47a",
   "metadata": {},
   "outputs": [],
   "source": [
    "df_test['Fare'] = df_test.Fare.fillna(0)\n",
    "df_test.fillna(modes, inplace=True)\n",
    "df_test['logfare'] = np.log(df_test['Fare']+1)\n",
    "df_test = pd.get_dummies(df_test, columns=[\"Sex\",\"Pclass\",\"Embarked\"])\n",
    "\n",
    "tst_indep = tensor(df_test[indep_cols].values, dtype=torch.float)\n",
    "tst_indep = tst_indep / vals"
   ]
  },
  {
   "cell_type": "code",
   "execution_count": 20,
   "id": "fb002feb-d8cd-4749-87d7-e5b6912800c4",
   "metadata": {},
   "outputs": [],
   "source": [
    "df_test['Survived'] = (calc_preds(model,tst_indep)>0.5).int()"
   ]
  },
  {
   "cell_type": "code",
   "execution_count": 15,
   "id": "74addbfc-409f-4c5d-8dc5-de9cd3675673",
   "metadata": {},
   "outputs": [],
   "source": [
    "sub_df = df_test[['PassengerId','Survived']]\n",
    "sub_df.to_csv('sub.csv', index=False)"
   ]
  },
  {
   "cell_type": "code",
   "execution_count": 16,
   "id": "536c83ef-d3e0-42f5-bd59-639168660261",
   "metadata": {},
   "outputs": [
    {
     "name": "stdout",
     "output_type": "stream",
     "text": [
      "PassengerId,Survived\n",
      "892,0\n",
      "893,1\n",
      "894,0\n",
      "895,1\n",
      "896,1\n",
      "897,1\n",
      "898,0\n",
      "899,1\n",
      "900,0\n"
     ]
    }
   ],
   "source": [
    "!head sub.csv"
   ]
  },
  {
   "cell_type": "code",
   "execution_count": null,
   "id": "b38d32ac-7dbc-4117-b6b8-134afdabfc2f",
   "metadata": {},
   "outputs": [],
   "source": []
  }
 ],
 "metadata": {
  "kernelspec": {
   "display_name": "Python 3 (ipykernel)",
   "language": "python",
   "name": "python3"
  },
  "language_info": {
   "codemirror_mode": {
    "name": "ipython",
    "version": 3
   },
   "file_extension": ".py",
   "mimetype": "text/x-python",
   "name": "python",
   "nbconvert_exporter": "python",
   "pygments_lexer": "ipython3",
   "version": "3.9.13"
  }
 },
 "nbformat": 4,
 "nbformat_minor": 5
}
