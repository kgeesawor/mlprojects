{
 "cells": [
  {
   "cell_type": "code",
   "execution_count": 3,
   "id": "9a0ca5db-b01a-4b10-8461-fff46b835aa1",
   "metadata": {
    "tags": []
   },
   "outputs": [],
   "source": [
    "#!pip install youtube-transcript-api\n",
    "#! setx PATH \"%PATH%;C:\\Users\\Kusha\\AppData\\Roaming\\Python\\Python311\\Scripts\""
   ]
  },
  {
   "cell_type": "markdown",
   "id": "6f3847c6-e0b2-4c31-acfb-e9414f62b73f",
   "metadata": {},
   "source": [
    "### Collect all Videos IDs from MIT Deep Learning Series"
   ]
  },
  {
   "cell_type": "code",
   "execution_count": 41,
   "id": "cade391a-fe0b-4324-a5f7-cc5d4d784d2a",
   "metadata": {
    "tags": []
   },
   "outputs": [],
   "source": [
    "from youtube_transcript_api import YouTubeTranscriptApi\n",
    "\n",
    "# Function to get the transcript\n",
    "def get_transcript(video_id):\n",
    "    try:\n",
    "        # Retrieve the available transcripts\n",
    "        transcript_list = YouTubeTranscriptApi.list_transcripts(video_id)\n",
    "\n",
    "        # Just to showcase, we're taking the first transcript from the list\n",
    "        # But you can select based on language or other preferences\n",
    "        transcript = transcript_list.find_generated_transcript(['en'])\n",
    "\n",
    "        # Fetching the actual transcript data\n",
    "        transcript_data = transcript.fetch()\n",
    "            \n",
    "        # If you want to save it to a file:\n",
    "        with open('transcript.txt', 'a') as file:\n",
    "            for entry in transcript_data:\n",
    "                file.write(entry['text'] + ' ## ')\n",
    "    \n",
    "    except Exception as e:\n",
    "        print(\"An error occurred:\", e)\n",
    "\n",
    "# Replace 'video_id' with the ID of the YouTube video you want to get the transcript from\n",
    "#video_id = 'https://youtu.be/AhyznRSDjw8?si=itw-Zq6eSxDwDlar'\n",
    "#get_transcript(video_id)"
   ]
  },
  {
   "cell_type": "code",
   "execution_count": 51,
   "id": "0d5e346a-d168-4bfe-8a78-d095176f5789",
   "metadata": {
    "tags": []
   },
   "outputs": [
    {
     "data": {
      "text/plain": [
       "63363"
      ]
     },
     "execution_count": 51,
     "metadata": {},
     "output_type": "execute_result"
    }
   ],
   "source": [
    "l_links = ['https://youtu.be/QDX-1M5Nj7s?si=zAZlzwZUwN28oBk_'\n",
    "           #'https://youtu.be/ySEx_Bqxvvo?si=ALLBPfzDUSUgtzkX',\n",
    "           #'https://youtu.be/NmLK_WQBxB4?si=rKkcC3_S1FxIdK2l',\n",
    "           #'https://youtu.be/3G5hWM6jqPk?si=ZLGg4oBJyVCyKcAA',\n",
    "           #'https://youtu.be/kIiO4VSrivU?si=nlBF-ViDb17qTXP1',\n",
    "           #'https://youtu.be/AhyznRSDjw8?si=itw-Zq6eSxDwDlar'\n",
    "          ]\n",
    "\n",
    "l_id = [i.split('https://youtu.be/')[1] for i in l_links]\n",
    "\n",
    "for i in l_id:\n",
    "    get_transcript(i)       \n",
    "    \n",
    "with open('transcript.txt', 'r') as file:\n",
    "    # Read the contents of the file into a variable\n",
    "    file_contents = file.read()\n",
    "    \n",
    "len(file_contents)    \n"
   ]
  },
  {
   "cell_type": "code",
   "execution_count": null,
   "id": "e7106019-2630-48fd-ab0d-30bf4bdcac1f",
   "metadata": {},
   "outputs": [],
   "source": []
  }
 ],
 "metadata": {
  "kernelspec": {
   "display_name": "Python 3 (ipykernel)",
   "language": "python",
   "name": "python3"
  },
  "language_info": {
   "codemirror_mode": {
    "name": "ipython",
    "version": 3
   },
   "file_extension": ".py",
   "mimetype": "text/x-python",
   "name": "python",
   "nbconvert_exporter": "python",
   "pygments_lexer": "ipython3",
   "version": "3.11.5"
  }
 },
 "nbformat": 4,
 "nbformat_minor": 5
}
